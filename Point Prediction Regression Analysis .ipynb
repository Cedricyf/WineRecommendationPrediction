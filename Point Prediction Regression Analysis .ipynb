{
 "cells": [
  {
   "cell_type": "markdown",
   "metadata": {},
   "source": [
    "# Wine Point Prediction Analysis \n",
    "## MSCA 31008 Course Project "
   ]
  },
  {
   "cell_type": "code",
   "execution_count": 42,
   "metadata": {},
   "outputs": [],
   "source": [
    "import numpy as np\n",
    "import pandas as pd\n",
    "from scipy import stats\n",
    "import matplotlib.pyplot as plt\n",
    "import seaborn as sns\n",
    "from sklearn.model_selection import train_test_split\n",
    "from sklearn.tree import DecisionTreeRegressor\n",
    "from sklearn.ensemble import RandomForestRegressor\n",
    "from sklearn.neighbors import KNeighborsRegressor\n",
    "from sklearn.decomposition import PCA\n",
    "from sklearn.pipeline import make_pipeline\n",
    "from sklearn.linear_model import LinearRegression\n",
    "from sklearn.metrics import mean_squared_error as MSE\n",
    "from sklearn.model_selection import cross_val_score\n",
    "from sklearn.model_selection import GridSearchCV\n",
    "from sklearn.model_selection import RandomizedSearchCV\n",
    "from sklearn import tree\n",
    "from sklearn.ensemble import GradientBoostingRegressor\n",
    "from sklearn.ensemble import VotingRegressor\n",
    "from sklearn.ensemble import AdaBoostRegressor\n",
    "from scipy import stats, integrate\n",
    "from sklearn.neighbors import KernelDensity\n",
    "from sklearn.decomposition import TruncatedSVD\n",
    "from sklearn.decomposition import PCA\n",
    "from sklearn import metrics\n",
    "\n",
    "import warnings\n",
    "warnings.filterwarnings('ignore')"
   ]
  },
  {
   "cell_type": "code",
   "execution_count": 2,
   "metadata": {},
   "outputs": [],
   "source": [
    "wine = pd.read_csv('clean_wine_dataset.csv')"
   ]
  },
  {
   "cell_type": "code",
   "execution_count": 3,
   "metadata": {},
   "outputs": [
    {
     "data": {
      "text/html": [
       "<div>\n",
       "<style scoped>\n",
       "    .dataframe tbody tr th:only-of-type {\n",
       "        vertical-align: middle;\n",
       "    }\n",
       "\n",
       "    .dataframe tbody tr th {\n",
       "        vertical-align: top;\n",
       "    }\n",
       "\n",
       "    .dataframe thead th {\n",
       "        text-align: right;\n",
       "    }\n",
       "</style>\n",
       "<table border=\"1\" class=\"dataframe\">\n",
       "  <thead>\n",
       "    <tr style=\"text-align: right;\">\n",
       "      <th></th>\n",
       "      <th>description</th>\n",
       "      <th>designation</th>\n",
       "      <th>points</th>\n",
       "      <th>price</th>\n",
       "      <th>province</th>\n",
       "      <th>variety</th>\n",
       "      <th>winery</th>\n",
       "    </tr>\n",
       "  </thead>\n",
       "  <tbody>\n",
       "    <tr>\n",
       "      <th>0</th>\n",
       "      <td>Mac Watson honors the memory of a wine once ma...</td>\n",
       "      <td>Special Selected Late Harvest</td>\n",
       "      <td>96</td>\n",
       "      <td>90.0</td>\n",
       "      <td>California</td>\n",
       "      <td>Sauvignon Blanc</td>\n",
       "      <td>Macauley</td>\n",
       "    </tr>\n",
       "    <tr>\n",
       "      <th>1</th>\n",
       "      <td>This spent 20 months in 30% new French oak, an...</td>\n",
       "      <td>Reserve</td>\n",
       "      <td>96</td>\n",
       "      <td>65.0</td>\n",
       "      <td>Oregon</td>\n",
       "      <td>Pinot Noir</td>\n",
       "      <td>Ponzi</td>\n",
       "    </tr>\n",
       "    <tr>\n",
       "      <th>2</th>\n",
       "      <td>This is the top wine from La Bégude, named aft...</td>\n",
       "      <td>La Brûlade</td>\n",
       "      <td>95</td>\n",
       "      <td>66.0</td>\n",
       "      <td>Provence</td>\n",
       "      <td>Provence red blend</td>\n",
       "      <td>Domaine de la Bégude</td>\n",
       "    </tr>\n",
       "    <tr>\n",
       "      <th>3</th>\n",
       "      <td>Deep, dense and pure from the opening bell, th...</td>\n",
       "      <td>Numanthia</td>\n",
       "      <td>95</td>\n",
       "      <td>73.0</td>\n",
       "      <td>Northern Spain</td>\n",
       "      <td>Tinta de Toro</td>\n",
       "      <td>Numanthia</td>\n",
       "    </tr>\n",
       "    <tr>\n",
       "      <th>4</th>\n",
       "      <td>Slightly gritty black-fruit aromas include a s...</td>\n",
       "      <td>San Román</td>\n",
       "      <td>95</td>\n",
       "      <td>65.0</td>\n",
       "      <td>Northern Spain</td>\n",
       "      <td>Tinta de Toro</td>\n",
       "      <td>Maurodos</td>\n",
       "    </tr>\n",
       "    <tr>\n",
       "      <th>...</th>\n",
       "      <td>...</td>\n",
       "      <td>...</td>\n",
       "      <td>...</td>\n",
       "      <td>...</td>\n",
       "      <td>...</td>\n",
       "      <td>...</td>\n",
       "      <td>...</td>\n",
       "    </tr>\n",
       "    <tr>\n",
       "      <th>152256</th>\n",
       "      <td>Notes of honeysuckle and cantaloupe sweeten th...</td>\n",
       "      <td>Brauneberger Juffer-Sonnenuhr Spätlese</td>\n",
       "      <td>90</td>\n",
       "      <td>28.0</td>\n",
       "      <td>Mosel</td>\n",
       "      <td>Riesling</td>\n",
       "      <td>Dr. H. Thanisch (Erben Müller-Burggraef)</td>\n",
       "    </tr>\n",
       "    <tr>\n",
       "      <th>152257</th>\n",
       "      <td>Citation is given as much as a decade of bottl...</td>\n",
       "      <td>NaN</td>\n",
       "      <td>90</td>\n",
       "      <td>75.0</td>\n",
       "      <td>Oregon</td>\n",
       "      <td>Pinot Noir</td>\n",
       "      <td>Citation</td>\n",
       "    </tr>\n",
       "    <tr>\n",
       "      <th>152258</th>\n",
       "      <td>Well-drained gravel soil gives this wine its c...</td>\n",
       "      <td>Kritt</td>\n",
       "      <td>90</td>\n",
       "      <td>30.0</td>\n",
       "      <td>Alsace</td>\n",
       "      <td>Gewürztraminer</td>\n",
       "      <td>Domaine Gresser</td>\n",
       "    </tr>\n",
       "    <tr>\n",
       "      <th>152259</th>\n",
       "      <td>A dry style of Pinot Gris, this is crisp with ...</td>\n",
       "      <td>NaN</td>\n",
       "      <td>90</td>\n",
       "      <td>32.0</td>\n",
       "      <td>Alsace</td>\n",
       "      <td>Pinot Gris</td>\n",
       "      <td>Domaine Marcel Deiss</td>\n",
       "    </tr>\n",
       "    <tr>\n",
       "      <th>152260</th>\n",
       "      <td>Big, rich and off-dry, this is powered by inte...</td>\n",
       "      <td>Lieu-dit Harth Cuvée Caroline</td>\n",
       "      <td>90</td>\n",
       "      <td>21.0</td>\n",
       "      <td>Alsace</td>\n",
       "      <td>Gewürztraminer</td>\n",
       "      <td>Domaine Schoffit</td>\n",
       "    </tr>\n",
       "  </tbody>\n",
       "</table>\n",
       "<p>152261 rows × 7 columns</p>\n",
       "</div>"
      ],
      "text/plain": [
       "                                              description  \\\n",
       "0       Mac Watson honors the memory of a wine once ma...   \n",
       "1       This spent 20 months in 30% new French oak, an...   \n",
       "2       This is the top wine from La Bégude, named aft...   \n",
       "3       Deep, dense and pure from the opening bell, th...   \n",
       "4       Slightly gritty black-fruit aromas include a s...   \n",
       "...                                                   ...   \n",
       "152256  Notes of honeysuckle and cantaloupe sweeten th...   \n",
       "152257  Citation is given as much as a decade of bottl...   \n",
       "152258  Well-drained gravel soil gives this wine its c...   \n",
       "152259  A dry style of Pinot Gris, this is crisp with ...   \n",
       "152260  Big, rich and off-dry, this is powered by inte...   \n",
       "\n",
       "                                   designation  points  price        province  \\\n",
       "0                Special Selected Late Harvest      96   90.0      California   \n",
       "1                                      Reserve      96   65.0          Oregon   \n",
       "2                                   La Brûlade      95   66.0        Provence   \n",
       "3                                    Numanthia      95   73.0  Northern Spain   \n",
       "4                                    San Román      95   65.0  Northern Spain   \n",
       "...                                        ...     ...    ...             ...   \n",
       "152256  Brauneberger Juffer-Sonnenuhr Spätlese      90   28.0           Mosel   \n",
       "152257                                     NaN      90   75.0          Oregon   \n",
       "152258                                   Kritt      90   30.0          Alsace   \n",
       "152259                                     NaN      90   32.0          Alsace   \n",
       "152260           Lieu-dit Harth Cuvée Caroline      90   21.0          Alsace   \n",
       "\n",
       "                   variety                                    winery  \n",
       "0          Sauvignon Blanc                                  Macauley  \n",
       "1               Pinot Noir                                     Ponzi  \n",
       "2       Provence red blend                      Domaine de la Bégude  \n",
       "3            Tinta de Toro                                 Numanthia  \n",
       "4            Tinta de Toro                                  Maurodos  \n",
       "...                    ...                                       ...  \n",
       "152256            Riesling  Dr. H. Thanisch (Erben Müller-Burggraef)  \n",
       "152257          Pinot Noir                                  Citation  \n",
       "152258      Gewürztraminer                           Domaine Gresser  \n",
       "152259          Pinot Gris                      Domaine Marcel Deiss  \n",
       "152260      Gewürztraminer                          Domaine Schoffit  \n",
       "\n",
       "[152261 rows x 7 columns]"
      ]
     },
     "execution_count": 3,
     "metadata": {},
     "output_type": "execute_result"
    }
   ],
   "source": [
    "wine"
   ]
  },
  {
   "cell_type": "code",
   "execution_count": 4,
   "metadata": {},
   "outputs": [
    {
     "name": "stdout",
     "output_type": "stream",
     "text": [
      "<class 'pandas.core.frame.DataFrame'>\n",
      "RangeIndex: 152261 entries, 0 to 152260\n",
      "Data columns (total 7 columns):\n",
      " #   Column       Non-Null Count   Dtype  \n",
      "---  ------       --------------   -----  \n",
      " 0   description  152261 non-null  object \n",
      " 1   designation  106521 non-null  object \n",
      " 2   points       152261 non-null  int64  \n",
      " 3   price        152261 non-null  float64\n",
      " 4   province     152261 non-null  object \n",
      " 5   variety      152261 non-null  object \n",
      " 6   winery       152261 non-null  object \n",
      "dtypes: float64(1), int64(1), object(5)\n",
      "memory usage: 8.1+ MB\n"
     ]
    }
   ],
   "source": [
    "wine.info()"
   ]
  },
  {
   "cell_type": "code",
   "execution_count": 5,
   "metadata": {},
   "outputs": [
    {
     "data": {
      "text/plain": [
       "count    152261.000000\n",
       "mean         88.061651\n",
       "std           3.061179\n",
       "min          80.000000\n",
       "25%          86.000000\n",
       "50%          88.000000\n",
       "75%          90.000000\n",
       "max         100.000000\n",
       "Name: points, dtype: float64"
      ]
     },
     "execution_count": 5,
     "metadata": {},
     "output_type": "execute_result"
    }
   ],
   "source": [
    "wine[\"points\"].describe()"
   ]
  },
  {
   "cell_type": "code",
   "execution_count": 6,
   "metadata": {},
   "outputs": [],
   "source": [
    "def sentiment_label(x):\n",
    "    if x <= 83:\n",
    "        return 'negative'\n",
    "    elif x>= 90:\n",
    "        return 'positive'\n",
    "    else:\n",
    "        return 'neutral'\n",
    "\n",
    "def sentiment_score(x):\n",
    "    if x <= 83:\n",
    "        return 0\n",
    "    elif x>= 90:\n",
    "        return 1\n",
    "    else:\n",
    "        return 2"
   ]
  },
  {
   "cell_type": "code",
   "execution_count": 7,
   "metadata": {},
   "outputs": [],
   "source": [
    "wine['sentiment_score'] = wine.points.apply(lambda x: sentiment_score(x))"
   ]
  },
  {
   "cell_type": "code",
   "execution_count": 8,
   "metadata": {},
   "outputs": [],
   "source": [
    "todummies = ['province','variety']\n",
    "dummies = pd.get_dummies(wine[todummies])\n",
    "winetrain = pd.concat([dummies,wine],axis=1)"
   ]
  },
  {
   "cell_type": "code",
   "execution_count": 9,
   "metadata": {},
   "outputs": [],
   "source": [
    "winetrain = winetrain.drop(['designation'], axis=1)\n",
    "winetrain = winetrain.drop(['province'], axis=1)\n",
    "winetrain = winetrain.drop(['variety'], axis=1)\n",
    "winetrain = winetrain.drop(['winery'], axis=1)"
   ]
  },
  {
   "cell_type": "code",
   "execution_count": 10,
   "metadata": {},
   "outputs": [
    {
     "name": "stdout",
     "output_type": "stream",
     "text": [
      "<class 'pandas.core.frame.DataFrame'>\n",
      "RangeIndex: 152261 entries, 0 to 152260\n",
      "Columns: 1221 entries, province_Achaia to sentiment_score\n",
      "dtypes: float64(1), int64(2), object(1), uint8(1217)\n",
      "memory usage: 181.4+ MB\n"
     ]
    }
   ],
   "source": [
    "winetrain.info()"
   ]
  },
  {
   "cell_type": "code",
   "execution_count": 11,
   "metadata": {},
   "outputs": [],
   "source": [
    "winetrain = winetrain.drop(['description'], axis=1)"
   ]
  },
  {
   "cell_type": "markdown",
   "metadata": {},
   "source": [
    "### Fitting Preliminary Models: "
   ]
  },
  {
   "cell_type": "code",
   "execution_count": 12,
   "metadata": {},
   "outputs": [],
   "source": [
    "X,y=winetrain.drop(['points'],axis=1),winetrain['points']"
   ]
  },
  {
   "cell_type": "code",
   "execution_count": 13,
   "metadata": {},
   "outputs": [],
   "source": [
    "train_X, val_X, train_y, val_y=train_test_split(X,y, train_size=(.8))"
   ]
  },
  {
   "cell_type": "code",
   "execution_count": 14,
   "metadata": {},
   "outputs": [],
   "source": [
    "def RegressorFit(model): \n",
    "    Regressor = model()\n",
    "    Regressor.fit(train_X, train_y)\n",
    "    Regressor.predict(val_X)\n",
    "    return Regressor"
   ]
  },
  {
   "cell_type": "markdown",
   "metadata": {},
   "source": [
    "#### Linear Regression: "
   ]
  },
  {
   "cell_type": "code",
   "execution_count": 15,
   "metadata": {},
   "outputs": [
    {
     "name": "stdout",
     "output_type": "stream",
     "text": [
      "-2.9556855572088556e+16 percent\n"
     ]
    }
   ],
   "source": [
    "linearregression = RegressorFit(LinearRegression)\n",
    "\n",
    "acc_lin_reg = round( linearregression.score(val_X, val_y) * 100, 2)\n",
    "print (str(acc_lin_reg) + ' percent')"
   ]
  },
  {
   "cell_type": "markdown",
   "metadata": {},
   "source": [
    "#### Decision Tree:"
   ]
  },
  {
   "cell_type": "code",
   "execution_count": 16,
   "metadata": {},
   "outputs": [
    {
     "name": "stdout",
     "output_type": "stream",
     "text": [
      "77.24  percent\n"
     ]
    }
   ],
   "source": [
    "decisiontree = RegressorFit(DecisionTreeRegressor)\n",
    "\n",
    "acc_decision_tree = round(decisiontree.score(val_X, val_y) * 100, 2)\n",
    "print(round(acc_decision_tree,2,), ' percent')"
   ]
  },
  {
   "cell_type": "markdown",
   "metadata": {},
   "source": [
    "#### Random Forest:"
   ]
  },
  {
   "cell_type": "code",
   "execution_count": 17,
   "metadata": {},
   "outputs": [
    {
     "name": "stdout",
     "output_type": "stream",
     "text": [
      "79.3  percent\n"
     ]
    }
   ],
   "source": [
    "forest = RegressorFit(RandomForestRegressor)\n",
    "\n",
    "acc_random_forest = round(forest.score(val_X, val_y) * 100, 2)\n",
    "print(round(acc_random_forest,2,), ' percent')"
   ]
  },
  {
   "cell_type": "markdown",
   "metadata": {},
   "source": [
    "#### KNeighbors Regressor:"
   ]
  },
  {
   "cell_type": "code",
   "execution_count": 18,
   "metadata": {},
   "outputs": [
    {
     "name": "stdout",
     "output_type": "stream",
     "text": [
      "70.23  percent\n"
     ]
    }
   ],
   "source": [
    "KNN = RegressorFit(KNeighborsRegressor)\n",
    "\n",
    "acc_KNN = round(KNN.score(val_X, val_y) * 100, 2)\n",
    "print(round(acc_KNN,2,), ' percent')"
   ]
  },
  {
   "cell_type": "code",
   "execution_count": 19,
   "metadata": {},
   "outputs": [
    {
     "name": "stdout",
     "output_type": "stream",
     "text": [
      "Test set RMSE of the forest model is: 1.39\n"
     ]
    }
   ],
   "source": [
    "y_pred = forest.predict(val_X)\n",
    "\n",
    "mse_forest = MSE(val_y, y_pred)\n",
    "\n",
    "rmse_forest = mse_forest**(1/2)\n",
    "\n",
    "print(\"Test set RMSE of the forest model is: {:.2f}\".format(rmse_forest))"
   ]
  },
  {
   "cell_type": "markdown",
   "metadata": {},
   "source": [
    "##### Selecting Hyperparameters Via Randomized Search CV: "
   ]
  },
  {
   "cell_type": "code",
   "execution_count": 33,
   "metadata": {},
   "outputs": [
    {
     "name": "stdout",
     "output_type": "stream",
     "text": [
      "Fitting 3 folds for each of 100 candidates, totalling 300 fits\n"
     ]
    },
    {
     "data": {
      "text/plain": [
       "{'n_estimators': 600,\n",
       " 'min_samples_split': 23,\n",
       " 'min_samples_leaf': 2,\n",
       " 'max_features': 'sqrt',\n",
       " 'max_depth': 15,\n",
       " 'bootstrap': False}"
      ]
     },
     "execution_count": 33,
     "metadata": {},
     "output_type": "execute_result"
    }
   ],
   "source": [
    "forest_2 = RandomForestRegressor()\n",
    "\n",
    "n_estimators = [int(x) for x in np.linspace(start = 100, stop = 1000, num = 10)]\n",
    "max_features = ['log2', 'sqrt']\n",
    "max_depth = [int(x) for x in np.linspace(start = 1, stop = 15, num = 15)]\n",
    "min_samples_split = [int(x) for x in np.linspace(start = 2, stop = 50, num = 10)]\n",
    "min_samples_leaf = [int(x) for x in np.linspace(start = 2, stop = 50, num = 10)]\n",
    "bootstrap = [True, False]\n",
    "param_dist = {'n_estimators': n_estimators,\n",
    "               'max_features': max_features,\n",
    "               'max_depth': max_depth,\n",
    "               'min_samples_split': min_samples_split,\n",
    "               'min_samples_leaf': min_samples_leaf,\n",
    "               'bootstrap': bootstrap}\n",
    "\n",
    "RandomForestCV = RandomizedSearchCV(forest_2, \n",
    "                        param_dist, \n",
    "                        n_iter = 100, \n",
    "                        cv = 3, \n",
    "                        verbose = 1, \n",
    "                        n_jobs=-1, \n",
    "                        random_state=0)\n",
    "\n",
    "RandomForestCV.fit(train_X, train_y)\n",
    "RandomForestCV.best_params_\n",
    "\n"
   ]
  },
  {
   "cell_type": "code",
   "execution_count": 34,
   "metadata": {},
   "outputs": [
    {
     "data": {
      "text/html": [
       "<div>\n",
       "<style scoped>\n",
       "    .dataframe tbody tr th:only-of-type {\n",
       "        vertical-align: middle;\n",
       "    }\n",
       "\n",
       "    .dataframe tbody tr th {\n",
       "        vertical-align: top;\n",
       "    }\n",
       "\n",
       "    .dataframe thead th {\n",
       "        text-align: right;\n",
       "    }\n",
       "</style>\n",
       "<table border=\"1\" class=\"dataframe\">\n",
       "  <thead>\n",
       "    <tr style=\"text-align: right;\">\n",
       "      <th></th>\n",
       "      <th>param_n_estimators</th>\n",
       "      <th>param_min_samples_split</th>\n",
       "      <th>param_min_samples_leaf</th>\n",
       "      <th>param_max_features</th>\n",
       "      <th>param_max_depth</th>\n",
       "      <th>param_bootstrap</th>\n",
       "      <th>mean_test_score</th>\n",
       "      <th>rank_test_score</th>\n",
       "    </tr>\n",
       "  </thead>\n",
       "  <tbody>\n",
       "    <tr>\n",
       "      <th>0</th>\n",
       "      <td>600</td>\n",
       "      <td>23</td>\n",
       "      <td>2</td>\n",
       "      <td>sqrt</td>\n",
       "      <td>15</td>\n",
       "      <td>False</td>\n",
       "      <td>0.385887</td>\n",
       "      <td>1</td>\n",
       "    </tr>\n",
       "    <tr>\n",
       "      <th>1</th>\n",
       "      <td>400</td>\n",
       "      <td>23</td>\n",
       "      <td>2</td>\n",
       "      <td>sqrt</td>\n",
       "      <td>14</td>\n",
       "      <td>False</td>\n",
       "      <td>0.370599</td>\n",
       "      <td>2</td>\n",
       "    </tr>\n",
       "    <tr>\n",
       "      <th>2</th>\n",
       "      <td>700</td>\n",
       "      <td>12</td>\n",
       "      <td>2</td>\n",
       "      <td>sqrt</td>\n",
       "      <td>13</td>\n",
       "      <td>False</td>\n",
       "      <td>0.360840</td>\n",
       "      <td>3</td>\n",
       "    </tr>\n",
       "    <tr>\n",
       "      <th>3</th>\n",
       "      <td>100</td>\n",
       "      <td>2</td>\n",
       "      <td>18</td>\n",
       "      <td>sqrt</td>\n",
       "      <td>15</td>\n",
       "      <td>False</td>\n",
       "      <td>0.355692</td>\n",
       "      <td>4</td>\n",
       "    </tr>\n",
       "    <tr>\n",
       "      <th>4</th>\n",
       "      <td>800</td>\n",
       "      <td>28</td>\n",
       "      <td>12</td>\n",
       "      <td>sqrt</td>\n",
       "      <td>14</td>\n",
       "      <td>True</td>\n",
       "      <td>0.354218</td>\n",
       "      <td>5</td>\n",
       "    </tr>\n",
       "    <tr>\n",
       "      <th>5</th>\n",
       "      <td>100</td>\n",
       "      <td>50</td>\n",
       "      <td>39</td>\n",
       "      <td>sqrt</td>\n",
       "      <td>15</td>\n",
       "      <td>False</td>\n",
       "      <td>0.349511</td>\n",
       "      <td>6</td>\n",
       "    </tr>\n",
       "    <tr>\n",
       "      <th>6</th>\n",
       "      <td>1000</td>\n",
       "      <td>34</td>\n",
       "      <td>23</td>\n",
       "      <td>sqrt</td>\n",
       "      <td>14</td>\n",
       "      <td>True</td>\n",
       "      <td>0.346810</td>\n",
       "      <td>7</td>\n",
       "    </tr>\n",
       "    <tr>\n",
       "      <th>7</th>\n",
       "      <td>600</td>\n",
       "      <td>50</td>\n",
       "      <td>23</td>\n",
       "      <td>sqrt</td>\n",
       "      <td>14</td>\n",
       "      <td>False</td>\n",
       "      <td>0.346414</td>\n",
       "      <td>8</td>\n",
       "    </tr>\n",
       "    <tr>\n",
       "      <th>8</th>\n",
       "      <td>300</td>\n",
       "      <td>18</td>\n",
       "      <td>18</td>\n",
       "      <td>sqrt</td>\n",
       "      <td>13</td>\n",
       "      <td>True</td>\n",
       "      <td>0.342096</td>\n",
       "      <td>9</td>\n",
       "    </tr>\n",
       "    <tr>\n",
       "      <th>9</th>\n",
       "      <td>500</td>\n",
       "      <td>12</td>\n",
       "      <td>18</td>\n",
       "      <td>sqrt</td>\n",
       "      <td>13</td>\n",
       "      <td>False</td>\n",
       "      <td>0.334865</td>\n",
       "      <td>10</td>\n",
       "    </tr>\n",
       "  </tbody>\n",
       "</table>\n",
       "</div>"
      ],
      "text/plain": [
       "  param_n_estimators param_min_samples_split param_min_samples_leaf  \\\n",
       "0                600                      23                      2   \n",
       "1                400                      23                      2   \n",
       "2                700                      12                      2   \n",
       "3                100                       2                     18   \n",
       "4                800                      28                     12   \n",
       "5                100                      50                     39   \n",
       "6               1000                      34                     23   \n",
       "7                600                      50                     23   \n",
       "8                300                      18                     18   \n",
       "9                500                      12                     18   \n",
       "\n",
       "  param_max_features param_max_depth param_bootstrap  mean_test_score  \\\n",
       "0               sqrt              15           False         0.385887   \n",
       "1               sqrt              14           False         0.370599   \n",
       "2               sqrt              13           False         0.360840   \n",
       "3               sqrt              15           False         0.355692   \n",
       "4               sqrt              14            True         0.354218   \n",
       "5               sqrt              15           False         0.349511   \n",
       "6               sqrt              14            True         0.346810   \n",
       "7               sqrt              14           False         0.346414   \n",
       "8               sqrt              13            True         0.342096   \n",
       "9               sqrt              13           False         0.334865   \n",
       "\n",
       "   rank_test_score  \n",
       "0                1  \n",
       "1                2  \n",
       "2                3  \n",
       "3                4  \n",
       "4                5  \n",
       "5                6  \n",
       "6                7  \n",
       "7                8  \n",
       "8                9  \n",
       "9               10  "
      ]
     },
     "execution_count": 34,
     "metadata": {},
     "output_type": "execute_result"
    }
   ],
   "source": [
    "rs_df = pd.DataFrame(RandomForestCV.cv_results_).sort_values('rank_test_score').reset_index(drop=True)\n",
    "rs_df = rs_df.drop([\n",
    "            'mean_fit_time', \n",
    "            'std_fit_time', \n",
    "            'mean_score_time',\n",
    "            'std_score_time', \n",
    "            'params', \n",
    "            'split0_test_score', \n",
    "            'split1_test_score', \n",
    "            'split2_test_score', \n",
    "            'std_test_score'],\n",
    "            axis=1)\n",
    "rs_df.head(10)"
   ]
  },
  {
   "cell_type": "code",
   "execution_count": 39,
   "metadata": {},
   "outputs": [
    {
     "data": {
      "image/png": "[encoded data removed]",
      "text/plain": [
       "<Figure size 2160x1800 with 6 Axes>"
      ]
     },
     "metadata": {},
     "output_type": "display_data"
    }
   ],
   "source": [
    "fig, axs = plt.subplots(ncols=3, nrows=2)\n",
    "\n",
    "sns.set(style=\"whitegrid\", color_codes=True, font_scale = 2)\n",
    "fig.set_size_inches(30,25)\n",
    "\n",
    "sns.barplot(x='param_n_estimators', y='mean_test_score', data=rs_df, ax=axs[0,0], color='lightgrey')\n",
    "axs[0,0].set_ylim([0,1])\n",
    "axs[0,0].set_title(label = 'n_estimators', size=30, weight='bold')\n",
    "\n",
    "sns.barplot(x='param_min_samples_split', y='mean_test_score', data=rs_df, ax=axs[0,1], color='coral')\n",
    "axs[0,1].set_ylim([0,1])\n",
    "axs[0,1].set_title(label = 'min_samples_split', size=30, weight='bold')\n",
    "\n",
    "sns.barplot(x='param_min_samples_leaf', y='mean_test_score', data=rs_df, ax=axs[0,2], color='lightgreen')\n",
    "axs[0,2].set_ylim([0,1])\n",
    "axs[0,2].set_title(label = 'min_samples_leaf', size=30, weight='bold')\n",
    "\n",
    "sns.barplot(x='param_max_features', y='mean_test_score', data=rs_df, ax=axs[1,0], color='wheat')\n",
    "axs[1,0].set_ylim([0,1])\n",
    "axs[1,0].set_title(label = 'max_features', size=30, weight='bold')\n",
    "\n",
    "sns.barplot(x='param_max_depth', y='mean_test_score', data=rs_df, ax=axs[1,1], color='lightpink')\n",
    "axs[1,1].set_ylim([0,1])\n",
    "axs[1,1].set_title(label = 'max_depth', size=30, weight='bold')\n",
    "\n",
    "sns.barplot(x='param_bootstrap',y='mean_test_score', data=rs_df, ax=axs[1,2], color='skyblue')\n",
    "axs[1,2].set_ylim([0,1])\n",
    "\n",
    "axs[1,2].set_title(label = 'bootstrap', size=30, weight='bold')\n",
    "\n",
    "plt.show()"
   ]
  },
  {
   "cell_type": "markdown",
   "metadata": {},
   "source": [
    "##### Ensemble: "
   ]
  },
  {
   "cell_type": "code",
   "execution_count": 30,
   "metadata": {},
   "outputs": [
    {
     "name": "stdout",
     "output_type": "stream",
     "text": [
      "Test set RMSE of gb: 1.35\n",
      "Train set RMSE of gb: 1.36\n",
      "80.4  percent\n"
     ]
    }
   ],
   "source": [
    "gb = GradientBoostingRegressor()\n",
    "\n",
    "gb.fit(train_X, train_y)\n",
    "\n",
    "y_pred_Gboost = gb.predict(val_X)\n",
    "\n",
    "y_pred_train=gb.predict(train_X)\n",
    "\n",
    "rmse_test = MSE(val_y, y_pred_Gboost)**(1/2)\n",
    "rmse_train = MSE(train_y, y_pred_train)**(1/2)\n",
    "\n",
    "\n",
    "print('Test set RMSE of gb: {:.2f}'.format(rmse_test))\n",
    "print('Train set RMSE of gb: {:.2f}'.format(rmse_train))\n",
    "\n",
    "acc_GradientBoostingRegressor = round(gb.score(val_X, val_y) * 100, 2)\n",
    "print(round(acc_GradientBoostingRegressor,2,), ' percent')"
   ]
  },
  {
   "cell_type": "code",
   "execution_count": 31,
   "metadata": {},
   "outputs": [],
   "source": [
    "gb = GradientBoostingRegressor(random_state=1)\n",
    "\n",
    "rf = RandomForestRegressor(random_state=1)\n",
    "\n",
    "dt = DecisionTreeRegressor(random_state=1)\n",
    "\n",
    "regressors = [('Gradient Boosting Regressor', gb), ('Decision Tree', dt),('Random Forest',rf)]"
   ]
  },
  {
   "cell_type": "code",
   "execution_count": 36,
   "metadata": {},
   "outputs": [
    {
     "name": "stdout",
     "output_type": "stream",
     "text": [
      "Test set RMSE of VC: 1.36\n",
      "Train set RMSE of VC: 1.18\n",
      "Voting Regressor: 80.14  percent\n"
     ]
    }
   ],
   "source": [
    "vc = VotingRegressor(estimators=regressors)     \n",
    "\n",
    "vc.fit(train_X, train_y)   \n",
    "\n",
    "y_pred = vc.predict(val_X)\n",
    "\n",
    "y_pred_train=vc.predict(train_X)\n",
    "\n",
    "rmse_test = MSE(val_y, y_pred)**(1/2)\n",
    "rmse_train = MSE(train_y, y_pred_train)**(1/2)\n",
    "\n",
    "\n",
    "print('Test set RMSE of VC: {:.2f}'.format(rmse_test))\n",
    "print('Train set RMSE of VC: {:.2f}'.format(rmse_train))\n",
    "\n",
    "acc_VotingRegressor = round(vc.score(val_X, val_y) * 100, 2)\n",
    "print('Voting Regressor:',round(acc_VotingRegressor,2,), ' percent')"
   ]
  },
  {
   "cell_type": "code",
   "execution_count": 37,
   "metadata": {},
   "outputs": [],
   "source": [
    "KNN = KNeighborsRegressor()\n",
    "\n",
    "rf = RandomForestRegressor(random_state=1)\n",
    "\n",
    "dt = DecisionTreeRegressor(random_state=1)\n",
    "\n",
    "regressors = [('K Neighbors Regressor', KNN), ('Decision Tree', dt),('Random Forest',rf)]"
   ]
  },
  {
   "cell_type": "code",
   "execution_count": 38,
   "metadata": {},
   "outputs": [
    {
     "name": "stdout",
     "output_type": "stream",
     "text": [
      "Test set RMSE of VC: 1.42\n",
      "Train set RMSE of VC: 1.20\n",
      "Voting Regressor: 78.34  percent\n"
     ]
    }
   ],
   "source": [
    "vc = VotingRegressor(estimators=regressors)     \n",
    "\n",
    "vc.fit(train_X, train_y)   \n",
    "\n",
    "y_pred = vc.predict(val_X)\n",
    "\n",
    "y_pred_train=vc.predict(train_X)\n",
    "\n",
    "rmse_test = MSE(val_y, y_pred)**(1/2)\n",
    "rmse_train = MSE(train_y, y_pred_train)**(1/2)\n",
    "\n",
    "\n",
    "print('Test set RMSE of VC: {:.2f}'.format(rmse_test))\n",
    "print('Train set RMSE of VC: {:.2f}'.format(rmse_train))\n",
    "\n",
    "acc_VotingRegressor2 = round(vc.score(val_X, val_y) * 100, 2)\n",
    "print('Voting Regressor:',round(acc_VotingRegressor2,2,), ' percent')"
   ]
  },
  {
   "cell_type": "code",
   "execution_count": 32,
   "metadata": {},
   "outputs": [
    {
     "name": "stdout",
     "output_type": "stream",
     "text": [
      "Test set RMSE of VC: 1.42\n",
      "Train set RMSE of VC: 1.43\n",
      "AdaBoost Regressor: 78.25  percent\n"
     ]
    }
   ],
   "source": [
    "regr = AdaBoostRegressor(random_state=0, n_estimators=100)\n",
    "\n",
    "regr.fit(train_X, train_y)\n",
    "\n",
    "y_pred = regr.predict(val_X)\n",
    "\n",
    "y_pred_train=regr.predict(train_X)\n",
    "\n",
    "rmse_test = MSE(val_y, y_pred)**(1/2)\n",
    "rmse_train = MSE(train_y, y_pred_train)**(1/2)\n",
    "\n",
    "print('Test set RMSE of VC: {:.2f}'.format(rmse_test))\n",
    "print('Train set RMSE of VC: {:.2f}'.format(rmse_train))\n",
    "\n",
    "acc_AdaBoostRegressor = round(regr.score(val_X, val_y) * 100, 2)\n",
    "print('AdaBoost Regressor:',round(acc_AdaBoostRegressor,2,), ' percent')"
   ]
  },
  {
   "cell_type": "markdown",
   "metadata": {},
   "source": [
    "#### Model Comparison:"
   ]
  },
  {
   "cell_type": "code",
   "execution_count": 44,
   "metadata": {},
   "outputs": [
    {
     "data": {
      "text/html": [
       "<div>\n",
       "<style scoped>\n",
       "    .dataframe tbody tr th:only-of-type {\n",
       "        vertical-align: middle;\n",
       "    }\n",
       "\n",
       "    .dataframe tbody tr th {\n",
       "        vertical-align: top;\n",
       "    }\n",
       "\n",
       "    .dataframe thead th {\n",
       "        text-align: right;\n",
       "    }\n",
       "</style>\n",
       "<table border=\"1\" class=\"dataframe\">\n",
       "  <thead>\n",
       "    <tr style=\"text-align: right;\">\n",
       "      <th></th>\n",
       "      <th>Model</th>\n",
       "      <th>Score</th>\n",
       "    </tr>\n",
       "  </thead>\n",
       "  <tbody>\n",
       "    <tr>\n",
       "      <th>4</th>\n",
       "      <td>Gradient Boosting Regressor</td>\n",
       "      <td>80.40%</td>\n",
       "    </tr>\n",
       "    <tr>\n",
       "      <th>5</th>\n",
       "      <td>VotingRegressor (Gradient Boosting Regressor, ...</td>\n",
       "      <td>80.14%</td>\n",
       "    </tr>\n",
       "    <tr>\n",
       "      <th>2</th>\n",
       "      <td>Random Forest</td>\n",
       "      <td>79.30%</td>\n",
       "    </tr>\n",
       "    <tr>\n",
       "      <th>6</th>\n",
       "      <td>VotingRegressor (KNN, Decision Tree and Random...</td>\n",
       "      <td>78.34%</td>\n",
       "    </tr>\n",
       "    <tr>\n",
       "      <th>7</th>\n",
       "      <td>AdaBoost Regressor</td>\n",
       "      <td>78.25%</td>\n",
       "    </tr>\n",
       "    <tr>\n",
       "      <th>1</th>\n",
       "      <td>Decision Tree</td>\n",
       "      <td>77.24%</td>\n",
       "    </tr>\n",
       "    <tr>\n",
       "      <th>3</th>\n",
       "      <td>KNN</td>\n",
       "      <td>70.23%</td>\n",
       "    </tr>\n",
       "    <tr>\n",
       "      <th>0</th>\n",
       "      <td>Simple Linear Regression</td>\n",
       "      <td>-29556855572088556.00%</td>\n",
       "    </tr>\n",
       "  </tbody>\n",
       "</table>\n",
       "</div>"
      ],
      "text/plain": [
       "                                               Model                   Score\n",
       "4                        Gradient Boosting Regressor                  80.40%\n",
       "5  VotingRegressor (Gradient Boosting Regressor, ...                  80.14%\n",
       "2                                      Random Forest                  79.30%\n",
       "6  VotingRegressor (KNN, Decision Tree and Random...                  78.34%\n",
       "7                                 AdaBoost Regressor                  78.25%\n",
       "1                                      Decision Tree                  77.24%\n",
       "3                                                KNN                  70.23%\n",
       "0                           Simple Linear Regression  -29556855572088556.00%"
      ]
     },
     "execution_count": 44,
     "metadata": {},
     "output_type": "execute_result"
    }
   ],
   "source": [
    "models = pd.DataFrame({\n",
    "    'Model': ['Simple Linear Regression', 'Decision Tree','Random Forest', \n",
    "              'KNN','Gradient Boosting Regressor', 'VotingRegressor (Gradient Boosting Regressor, Decision Tree and Random Forest)', \n",
    "              'VotingRegressor (KNN, Decision Tree and Random Forest)', 'AdaBoost Regressor'],\n",
    "    \n",
    "    'Score': [acc_lin_reg, acc_decision_tree,acc_random_forest, \n",
    "              acc_KNN, acc_GradientBoostingRegressor, acc_VotingRegressor, \n",
    "              acc_VotingRegressor2, acc_AdaBoostRegressor]\n",
    "    })\n",
    "models['Score'] = pd.Series([\"{0:.2f}%\".format(val) for val in models['Score']], index = models.index)\n",
    "models.sort_values(by='Score', ascending=False)"
   ]
  },
  {
   "cell_type": "code",
   "execution_count": 46,
   "metadata": {},
   "outputs": [
    {
     "data": {
      "text/html": [
       "<div>\n",
       "<style scoped>\n",
       "    .dataframe tbody tr th:only-of-type {\n",
       "        vertical-align: middle;\n",
       "    }\n",
       "\n",
       "    .dataframe tbody tr th {\n",
       "        vertical-align: top;\n",
       "    }\n",
       "\n",
       "    .dataframe thead th {\n",
       "        text-align: right;\n",
       "    }\n",
       "</style>\n",
       "<table border=\"1\" class=\"dataframe\">\n",
       "  <thead>\n",
       "    <tr style=\"text-align: right;\">\n",
       "      <th></th>\n",
       "      <th>yhat</th>\n",
       "      <th>y</th>\n",
       "    </tr>\n",
       "  </thead>\n",
       "  <tbody>\n",
       "    <tr>\n",
       "      <th>0</th>\n",
       "      <td>86.069985</td>\n",
       "      <td>84</td>\n",
       "    </tr>\n",
       "    <tr>\n",
       "      <th>1</th>\n",
       "      <td>91.209690</td>\n",
       "      <td>90</td>\n",
       "    </tr>\n",
       "    <tr>\n",
       "      <th>2</th>\n",
       "      <td>82.346693</td>\n",
       "      <td>82</td>\n",
       "    </tr>\n",
       "    <tr>\n",
       "      <th>3</th>\n",
       "      <td>91.479575</td>\n",
       "      <td>95</td>\n",
       "    </tr>\n",
       "    <tr>\n",
       "      <th>4</th>\n",
       "      <td>87.006749</td>\n",
       "      <td>88</td>\n",
       "    </tr>\n",
       "  </tbody>\n",
       "</table>\n",
       "</div>"
      ],
      "text/plain": [
       "        yhat   y\n",
       "0  86.069985  84\n",
       "1  91.209690  90\n",
       "2  82.346693  82\n",
       "3  91.479575  95\n",
       "4  87.006749  88"
      ]
     },
     "execution_count": 46,
     "metadata": {},
     "output_type": "execute_result"
    }
   ],
   "source": [
    "X,y=winetrain.drop(['points'],axis=1),winetrain['points']\n",
    "train_X, val_X, train_y, val_y=train_test_split(X,y, train_size=(.8))\n",
    "\n",
    "y_pred = gb.predict(val_X)\n",
    "predictions_df = pd.DataFrame(y_pred, columns = [\"yhat\"])\n",
    "predictions_df[\"y\"] = val_y.values\n",
    "predictions_df.head()"
   ]
  },
  {
   "cell_type": "markdown",
   "metadata": {},
   "source": [
    "We began this analysis by first loading the required packages and the dataset, as cleaned via the EDA code provided in the attached preliminary workbook. We then explored the data to gain a better understanding of the relationships between the points and other features. Consistent with our team’s sentiment analysis we assign sentiment labels to each wine based on its points (i.e., less than 83: “negative”, 83-90: “neutral”, and greater than 90: “positive”). We assign the sentiment score in order to reflect a scenario in which our sentiment analysis accurately predicts the sentiment of the wine’s description as we lacked an additional dataset for full testing of our methodologies. We then assigned dummy variables to “province” and “variety” and dropped “designation” and “winery”. We chose these features as “province” and “variety” reflect the type of wine and location where the grapes for the wine were grown. We selected “province” and “variety” to test the notion that type of wine and location are two of the biggest features of quality wine.  We dropped “designation” and “winery” as “designation” was redundant with “variety” and “winery” was too specific to the point where many wineries from the training and test split only contributed one wine. As such, our model could not learn from or predict these wines. \n",
    "\n",
    "\n",
    "We then fit our preliminary models in order to gain a base level understanding of which models fit better than others. A shown, DecisionTreeRegressor, RandomForestRegressor, and KneighborsRegressor fit best with accuracies of 77.24%, 79.30%, and 70.23%, respectively. Based thereon, we moved to select hyperparameters via RandomsSarchCV for RandomForestRegressor. As shown, our original random forest model which was split until the nodes were pure performed significantly better than the hyperparameter models. \n",
    "\n",
    "\n",
    "After attempting to improve our analysis via hyperparameters, we moved to explore alternative ensemble models such as GradientBoostingRegressor, VotingRegressor, and AdaBoost.  In total we fit four ensemble models: GradientBoostingRegressor, VotingRegressor (GradientBoostingRegressor, DecisionTreeRegressor, and RandomForestRegressor), VotingRegressor (KneighborsRegressor, DecisionTreeRegressor, and RandomForestRegressor) and AdaBoost. As shown, GradientBoostingRegressor performed the best with an accuracy, as measured by r-squared, of 80.4 with test and train RMSEs of 1.35 and 1.36, respectively. \n",
    "\n",
    "\n",
    "As shown in the comparison of models above, GradientBoostingRegressor had the overall best fit, as measured by r-squared. As such, we leveraged this model to predict the points for the test set, shown above.\n",
    "\n"
   ]
  },
  {
   "cell_type": "code",
   "execution_count": null,
   "metadata": {},
   "outputs": [],
   "source": []
  }
 ],
 "metadata": {
  "kernelspec": {
   "display_name": "Python 3",
   "language": "python",
   "name": "python3"
  },
  "language_info": {
   "codemirror_mode": {
    "name": "ipython",
    "version": 3
   },
   "file_extension": ".py",
   "mimetype": "text/x-python",
   "name": "python",
   "nbconvert_exporter": "python",
   "pygments_lexer": "ipython3",
   "version": "3.8.3"
  }
 },
 "nbformat": 4,
 "nbformat_minor": 4
}
