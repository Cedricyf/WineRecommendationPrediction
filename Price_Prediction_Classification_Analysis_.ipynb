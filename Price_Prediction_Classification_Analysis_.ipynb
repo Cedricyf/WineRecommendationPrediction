{
 "cells": [
  {
   "cell_type": "markdown",
   "metadata": {
    "id": "pl5JVvlMMW7_"
   },
   "source": [
    "# Wine Price Prediction Analysis \n",
    "## MSCA 31008"
   ]
  },
  {
   "cell_type": "code",
   "execution_count": 1,
   "metadata": {
    "colab": {
     "base_uri": "https://localhost:8080/"
    },
    "id": "ViVoUs6LMW8B",
    "outputId": "8edabc7e-520d-40c8-e096-05df35e4125a"
   },
   "outputs": [
    {
     "name": "stderr",
     "output_type": "stream",
     "text": [
      "/usr/local/lib/python3.7/dist-packages/sklearn/externals/six.py:31: FutureWarning: The module is deprecated in version 0.21 and will be removed in version 0.23 since we've dropped support for Python 2.7. Please rely on the official version of six (https://pypi.org/project/six/).\n",
      "  \"(https://pypi.org/project/six/).\", FutureWarning)\n",
      "/usr/local/lib/python3.7/dist-packages/sklearn/utils/deprecation.py:144: FutureWarning: The sklearn.neighbors.base module is  deprecated in version 0.22 and will be removed in version 0.24. The corresponding classes / functions should instead be imported from sklearn.neighbors. Anything that cannot be imported from sklearn.neighbors is now part of the private API.\n",
      "  warnings.warn(message, FutureWarning)\n"
     ]
    }
   ],
   "source": [
    "import numpy as np\n",
    "import pandas as pd\n",
    "from scipy import stats\n",
    "import matplotlib.pyplot as plt\n",
    "import seaborn as sns\n",
    "from sklearn.model_selection import train_test_split\n",
    "from sklearn.tree import DecisionTreeClassifier\n",
    "from sklearn.ensemble import RandomForestClassifier\n",
    "from sklearn.neighbors import KNeighborsClassifier\n",
    "from sklearn.decomposition import PCA\n",
    "from sklearn.pipeline import make_pipeline\n",
    "from sklearn.linear_model import LogisticRegression\n",
    "from sklearn.svm import SVC, LinearSVC\n",
    "from sklearn.naive_bayes import GaussianNB\n",
    "from sklearn.linear_model import Perceptron\n",
    "from sklearn.linear_model import SGDClassifier\n",
    "from sklearn.ensemble import GradientBoostingClassifier\n",
    "from sklearn.metrics import mean_squared_error as MSE\n",
    "from sklearn.model_selection import cross_val_score\n",
    "from sklearn.model_selection import GridSearchCV\n",
    "from sklearn.model_selection import RandomizedSearchCV\n",
    "from sklearn import tree\n",
    "from scipy import stats, integrate\n",
    "from sklearn.neighbors import KernelDensity\n",
    "from sklearn.decomposition import TruncatedSVD\n",
    "from sklearn.ensemble import VotingClassifier\n",
    "from sklearn.ensemble import AdaBoostClassifier\n",
    "from imblearn.over_sampling import SMOTE\n",
    "from sklearn import metrics\n",
    "\n",
    "import warnings\n",
    "warnings.filterwarnings('ignore')"
   ]
  },
  {
   "cell_type": "code",
   "execution_count": 2,
   "metadata": {
    "colab": {
     "base_uri": "https://localhost:8080/"
    },
    "id": "ZP6YMUhkMlvS",
    "outputId": "e11f7cdd-f4ff-400e-dfd1-361b2236f59b"
   },
   "outputs": [
    {
     "name": "stdout",
     "output_type": "stream",
     "text": [
      "Mounted at /content/drive\n"
     ]
    }
   ],
   "source": [
    "from google.colab import drive\n",
    "drive.mount('/content/drive')"
   ]
  },
  {
   "cell_type": "code",
   "execution_count": 3,
   "metadata": {
    "id": "DMnSsJhLNTQe"
   },
   "outputs": [],
   "source": [
    "import os\n",
    "os.chdir('/content/drive/My Drive/Colab Notebooks/Data')"
   ]
  },
  {
   "cell_type": "markdown",
   "metadata": {
    "id": "I0Zx6MRUjfmZ"
   },
   "source": [
    "#### EDA and Feature Engineering:"
   ]
  },
  {
   "cell_type": "code",
   "execution_count": 16,
   "metadata": {
    "id": "LcKsHuc6MW8C"
   },
   "outputs": [],
   "source": [
    "wine = pd.read_csv('clean_wine_dataset.csv')"
   ]
  },
  {
   "cell_type": "code",
   "execution_count": 17,
   "metadata": {
    "colab": {
     "base_uri": "https://localhost:8080/",
     "height": 419
    },
    "id": "C1019IxxMW8C",
    "outputId": "00255f97-54d8-4ac0-c2ef-075639486777"
   },
   "outputs": [
    {
     "data": {
      "text/html": [
       "<div>\n",
       "<style scoped>\n",
       "    .dataframe tbody tr th:only-of-type {\n",
       "        vertical-align: middle;\n",
       "    }\n",
       "\n",
       "    .dataframe tbody tr th {\n",
       "        vertical-align: top;\n",
       "    }\n",
       "\n",
       "    .dataframe thead th {\n",
       "        text-align: right;\n",
       "    }\n",
       "</style>\n",
       "<table border=\"1\" class=\"dataframe\">\n",
       "  <thead>\n",
       "    <tr style=\"text-align: right;\">\n",
       "      <th></th>\n",
       "      <th>description</th>\n",
       "      <th>designation</th>\n",
       "      <th>points</th>\n",
       "      <th>price</th>\n",
       "      <th>province</th>\n",
       "      <th>variety</th>\n",
       "      <th>winery</th>\n",
       "    </tr>\n",
       "  </thead>\n",
       "  <tbody>\n",
       "    <tr>\n",
       "      <th>0</th>\n",
       "      <td>Mac Watson honors the memory of a wine once ma...</td>\n",
       "      <td>Special Selected Late Harvest</td>\n",
       "      <td>96</td>\n",
       "      <td>90.0</td>\n",
       "      <td>California</td>\n",
       "      <td>Sauvignon Blanc</td>\n",
       "      <td>Macauley</td>\n",
       "    </tr>\n",
       "    <tr>\n",
       "      <th>1</th>\n",
       "      <td>This spent 20 months in 30% new French oak, an...</td>\n",
       "      <td>Reserve</td>\n",
       "      <td>96</td>\n",
       "      <td>65.0</td>\n",
       "      <td>Oregon</td>\n",
       "      <td>Pinot Noir</td>\n",
       "      <td>Ponzi</td>\n",
       "    </tr>\n",
       "    <tr>\n",
       "      <th>2</th>\n",
       "      <td>This is the top wine from La Bégude, named aft...</td>\n",
       "      <td>La Brûlade</td>\n",
       "      <td>95</td>\n",
       "      <td>66.0</td>\n",
       "      <td>Provence</td>\n",
       "      <td>Provence red blend</td>\n",
       "      <td>Domaine de la Bégude</td>\n",
       "    </tr>\n",
       "    <tr>\n",
       "      <th>3</th>\n",
       "      <td>Deep, dense and pure from the opening bell, th...</td>\n",
       "      <td>Numanthia</td>\n",
       "      <td>95</td>\n",
       "      <td>73.0</td>\n",
       "      <td>Northern Spain</td>\n",
       "      <td>Tinta de Toro</td>\n",
       "      <td>Numanthia</td>\n",
       "    </tr>\n",
       "    <tr>\n",
       "      <th>4</th>\n",
       "      <td>Slightly gritty black-fruit aromas include a s...</td>\n",
       "      <td>San Román</td>\n",
       "      <td>95</td>\n",
       "      <td>65.0</td>\n",
       "      <td>Northern Spain</td>\n",
       "      <td>Tinta de Toro</td>\n",
       "      <td>Maurodos</td>\n",
       "    </tr>\n",
       "    <tr>\n",
       "      <th>...</th>\n",
       "      <td>...</td>\n",
       "      <td>...</td>\n",
       "      <td>...</td>\n",
       "      <td>...</td>\n",
       "      <td>...</td>\n",
       "      <td>...</td>\n",
       "      <td>...</td>\n",
       "    </tr>\n",
       "    <tr>\n",
       "      <th>152256</th>\n",
       "      <td>Notes of honeysuckle and cantaloupe sweeten th...</td>\n",
       "      <td>Brauneberger Juffer-Sonnenuhr Spätlese</td>\n",
       "      <td>90</td>\n",
       "      <td>28.0</td>\n",
       "      <td>Mosel</td>\n",
       "      <td>Riesling</td>\n",
       "      <td>Dr. H. Thanisch (Erben Müller-Burggraef)</td>\n",
       "    </tr>\n",
       "    <tr>\n",
       "      <th>152257</th>\n",
       "      <td>Citation is given as much as a decade of bottl...</td>\n",
       "      <td>NaN</td>\n",
       "      <td>90</td>\n",
       "      <td>75.0</td>\n",
       "      <td>Oregon</td>\n",
       "      <td>Pinot Noir</td>\n",
       "      <td>Citation</td>\n",
       "    </tr>\n",
       "    <tr>\n",
       "      <th>152258</th>\n",
       "      <td>Well-drained gravel soil gives this wine its c...</td>\n",
       "      <td>Kritt</td>\n",
       "      <td>90</td>\n",
       "      <td>30.0</td>\n",
       "      <td>Alsace</td>\n",
       "      <td>Gewürztraminer</td>\n",
       "      <td>Domaine Gresser</td>\n",
       "    </tr>\n",
       "    <tr>\n",
       "      <th>152259</th>\n",
       "      <td>A dry style of Pinot Gris, this is crisp with ...</td>\n",
       "      <td>NaN</td>\n",
       "      <td>90</td>\n",
       "      <td>32.0</td>\n",
       "      <td>Alsace</td>\n",
       "      <td>Pinot Gris</td>\n",
       "      <td>Domaine Marcel Deiss</td>\n",
       "    </tr>\n",
       "    <tr>\n",
       "      <th>152260</th>\n",
       "      <td>Big, rich and off-dry, this is powered by inte...</td>\n",
       "      <td>Lieu-dit Harth Cuvée Caroline</td>\n",
       "      <td>90</td>\n",
       "      <td>21.0</td>\n",
       "      <td>Alsace</td>\n",
       "      <td>Gewürztraminer</td>\n",
       "      <td>Domaine Schoffit</td>\n",
       "    </tr>\n",
       "  </tbody>\n",
       "</table>\n",
       "<p>152261 rows × 7 columns</p>\n",
       "</div>"
      ],
      "text/plain": [
       "                                              description  ...                                    winery\n",
       "0       Mac Watson honors the memory of a wine once ma...  ...                                  Macauley\n",
       "1       This spent 20 months in 30% new French oak, an...  ...                                     Ponzi\n",
       "2       This is the top wine from La Bégude, named aft...  ...                      Domaine de la Bégude\n",
       "3       Deep, dense and pure from the opening bell, th...  ...                                 Numanthia\n",
       "4       Slightly gritty black-fruit aromas include a s...  ...                                  Maurodos\n",
       "...                                                   ...  ...                                       ...\n",
       "152256  Notes of honeysuckle and cantaloupe sweeten th...  ...  Dr. H. Thanisch (Erben Müller-Burggraef)\n",
       "152257  Citation is given as much as a decade of bottl...  ...                                  Citation\n",
       "152258  Well-drained gravel soil gives this wine its c...  ...                           Domaine Gresser\n",
       "152259  A dry style of Pinot Gris, this is crisp with ...  ...                      Domaine Marcel Deiss\n",
       "152260  Big, rich and off-dry, this is powered by inte...  ...                          Domaine Schoffit\n",
       "\n",
       "[152261 rows x 7 columns]"
      ]
     },
     "execution_count": 17,
     "metadata": {
      "tags": []
     },
     "output_type": "execute_result"
    }
   ],
   "source": [
    "wine"
   ]
  },
  {
   "cell_type": "code",
   "execution_count": 18,
   "metadata": {
    "colab": {
     "base_uri": "https://localhost:8080/"
    },
    "id": "NG62J0ZFMW8D",
    "outputId": "12445cbb-41b2-477a-9bd5-b73167b77dbf"
   },
   "outputs": [
    {
     "name": "stdout",
     "output_type": "stream",
     "text": [
      "<class 'pandas.core.frame.DataFrame'>\n",
      "RangeIndex: 152261 entries, 0 to 152260\n",
      "Data columns (total 7 columns):\n",
      " #   Column       Non-Null Count   Dtype  \n",
      "---  ------       --------------   -----  \n",
      " 0   description  152261 non-null  object \n",
      " 1   designation  106521 non-null  object \n",
      " 2   points       152261 non-null  int64  \n",
      " 3   price        152261 non-null  float64\n",
      " 4   province     152261 non-null  object \n",
      " 5   variety      152261 non-null  object \n",
      " 6   winery       152261 non-null  object \n",
      "dtypes: float64(1), int64(1), object(5)\n",
      "memory usage: 8.1+ MB\n"
     ]
    }
   ],
   "source": [
    "wine.info()"
   ]
  },
  {
   "cell_type": "code",
   "execution_count": 19,
   "metadata": {
    "colab": {
     "base_uri": "https://localhost:8080/"
    },
    "id": "uPxp0B2IMW8D",
    "outputId": "e5ee57ca-1853-44ee-ef55-17de994f6161"
   },
   "outputs": [
    {
     "data": {
      "text/plain": [
       "count    152261.000000\n",
       "mean         88.061651\n",
       "std           3.061179\n",
       "min          80.000000\n",
       "25%          86.000000\n",
       "50%          88.000000\n",
       "75%          90.000000\n",
       "max         100.000000\n",
       "Name: points, dtype: float64"
      ]
     },
     "execution_count": 19,
     "metadata": {
      "tags": []
     },
     "output_type": "execute_result"
    }
   ],
   "source": [
    "wine[\"points\"].describe()"
   ]
  },
  {
   "cell_type": "code",
   "execution_count": 20,
   "metadata": {
    "colab": {
     "base_uri": "https://localhost:8080/",
     "height": 450
    },
    "id": "GJ4IUsNrjutw",
    "outputId": "5c00495d-256f-4c36-b4dc-2445f245d302"
   },
   "outputs": [
    {
     "data": {
      "text/html": [
       "<div>\n",
       "<style scoped>\n",
       "    .dataframe tbody tr th:only-of-type {\n",
       "        vertical-align: middle;\n",
       "    }\n",
       "\n",
       "    .dataframe tbody tr th {\n",
       "        vertical-align: top;\n",
       "    }\n",
       "\n",
       "    .dataframe thead th {\n",
       "        text-align: right;\n",
       "    }\n",
       "</style>\n",
       "<table border=\"1\" class=\"dataframe\">\n",
       "  <thead>\n",
       "    <tr style=\"text-align: right;\">\n",
       "      <th></th>\n",
       "      <th>points</th>\n",
       "      <th>price</th>\n",
       "    </tr>\n",
       "    <tr>\n",
       "      <th>province</th>\n",
       "      <th></th>\n",
       "      <th></th>\n",
       "    </tr>\n",
       "  </thead>\n",
       "  <tbody>\n",
       "    <tr>\n",
       "      <th>Südburgenland</th>\n",
       "      <td>94.000000</td>\n",
       "      <td>57.000000</td>\n",
       "    </tr>\n",
       "    <tr>\n",
       "      <th>Martinborough Terrace</th>\n",
       "      <td>93.000000</td>\n",
       "      <td>60.000000</td>\n",
       "    </tr>\n",
       "    <tr>\n",
       "      <th>Mittelrhein</th>\n",
       "      <td>92.250000</td>\n",
       "      <td>30.500000</td>\n",
       "    </tr>\n",
       "    <tr>\n",
       "      <th>England</th>\n",
       "      <td>91.766667</td>\n",
       "      <td>52.633333</td>\n",
       "    </tr>\n",
       "    <tr>\n",
       "      <th>Santa Cruz</th>\n",
       "      <td>91.500000</td>\n",
       "      <td>77.500000</td>\n",
       "    </tr>\n",
       "    <tr>\n",
       "      <th>...</th>\n",
       "      <td>...</td>\n",
       "      <td>...</td>\n",
       "    </tr>\n",
       "    <tr>\n",
       "      <th>Lake Skadar Valley</th>\n",
       "      <td>82.000000</td>\n",
       "      <td>10.000000</td>\n",
       "    </tr>\n",
       "    <tr>\n",
       "      <th>Jiri Valley</th>\n",
       "      <td>81.500000</td>\n",
       "      <td>13.500000</td>\n",
       "    </tr>\n",
       "    <tr>\n",
       "      <th>Chisinau County</th>\n",
       "      <td>81.000000</td>\n",
       "      <td>9.000000</td>\n",
       "    </tr>\n",
       "    <tr>\n",
       "      <th>Table wine</th>\n",
       "      <td>81.000000</td>\n",
       "      <td>8.000000</td>\n",
       "    </tr>\n",
       "    <tr>\n",
       "      <th>Murfatlar Cernavoda</th>\n",
       "      <td>80.000000</td>\n",
       "      <td>15.000000</td>\n",
       "    </tr>\n",
       "  </tbody>\n",
       "</table>\n",
       "<p>482 rows × 2 columns</p>\n",
       "</div>"
      ],
      "text/plain": [
       "                          points      price\n",
       "province                                   \n",
       "Südburgenland          94.000000  57.000000\n",
       "Martinborough Terrace  93.000000  60.000000\n",
       "Mittelrhein            92.250000  30.500000\n",
       "England                91.766667  52.633333\n",
       "Santa Cruz             91.500000  77.500000\n",
       "...                          ...        ...\n",
       "Lake Skadar Valley     82.000000  10.000000\n",
       "Jiri Valley            81.500000  13.500000\n",
       "Chisinau County        81.000000   9.000000\n",
       "Table wine             81.000000   8.000000\n",
       "Murfatlar Cernavoda    80.000000  15.000000\n",
       "\n",
       "[482 rows x 2 columns]"
      ]
     },
     "execution_count": 20,
     "metadata": {
      "tags": []
     },
     "output_type": "execute_result"
    }
   ],
   "source": [
    "wine.groupby(['province']).mean().sort_values(by = 'points',ascending = False)"
   ]
  },
  {
   "cell_type": "code",
   "execution_count": 21,
   "metadata": {
    "colab": {
     "base_uri": "https://localhost:8080/",
     "height": 450
    },
    "id": "wTAMtlYfjwTF",
    "outputId": "8fd05e8c-93da-4885-ed12-06c04c0340c5"
   },
   "outputs": [
    {
     "data": {
      "text/html": [
       "<div>\n",
       "<style scoped>\n",
       "    .dataframe tbody tr th:only-of-type {\n",
       "        vertical-align: middle;\n",
       "    }\n",
       "\n",
       "    .dataframe tbody tr th {\n",
       "        vertical-align: top;\n",
       "    }\n",
       "\n",
       "    .dataframe thead th {\n",
       "        text-align: right;\n",
       "    }\n",
       "</style>\n",
       "<table border=\"1\" class=\"dataframe\">\n",
       "  <thead>\n",
       "    <tr style=\"text-align: right;\">\n",
       "      <th></th>\n",
       "      <th>points</th>\n",
       "      <th>price</th>\n",
       "    </tr>\n",
       "    <tr>\n",
       "      <th>variety</th>\n",
       "      <th></th>\n",
       "      <th></th>\n",
       "    </tr>\n",
       "  </thead>\n",
       "  <tbody>\n",
       "    <tr>\n",
       "      <th>Gelber Traminer</th>\n",
       "      <td>95.000000</td>\n",
       "      <td>35.0</td>\n",
       "    </tr>\n",
       "    <tr>\n",
       "      <th>Tinta del Pais</th>\n",
       "      <td>95.000000</td>\n",
       "      <td>47.5</td>\n",
       "    </tr>\n",
       "    <tr>\n",
       "      <th>Riesling-Chardonnay</th>\n",
       "      <td>94.000000</td>\n",
       "      <td>40.0</td>\n",
       "    </tr>\n",
       "    <tr>\n",
       "      <th>Blauburgunder</th>\n",
       "      <td>93.000000</td>\n",
       "      <td>19.0</td>\n",
       "    </tr>\n",
       "    <tr>\n",
       "      <th>Garnacha-Cariñena</th>\n",
       "      <td>93.000000</td>\n",
       "      <td>57.0</td>\n",
       "    </tr>\n",
       "    <tr>\n",
       "      <th>...</th>\n",
       "      <td>...</td>\n",
       "      <td>...</td>\n",
       "    </tr>\n",
       "    <tr>\n",
       "      <th>Chardonelle</th>\n",
       "      <td>82.000000</td>\n",
       "      <td>30.0</td>\n",
       "    </tr>\n",
       "    <tr>\n",
       "      <th>Aidani</th>\n",
       "      <td>82.000000</td>\n",
       "      <td>27.0</td>\n",
       "    </tr>\n",
       "    <tr>\n",
       "      <th>Airen</th>\n",
       "      <td>81.666667</td>\n",
       "      <td>9.0</td>\n",
       "    </tr>\n",
       "    <tr>\n",
       "      <th>Meoru</th>\n",
       "      <td>81.500000</td>\n",
       "      <td>13.5</td>\n",
       "    </tr>\n",
       "    <tr>\n",
       "      <th>Chancellor</th>\n",
       "      <td>80.500000</td>\n",
       "      <td>16.0</td>\n",
       "    </tr>\n",
       "  </tbody>\n",
       "</table>\n",
       "<p>735 rows × 2 columns</p>\n",
       "</div>"
      ],
      "text/plain": [
       "                        points  price\n",
       "variety                              \n",
       "Gelber Traminer      95.000000   35.0\n",
       "Tinta del Pais       95.000000   47.5\n",
       "Riesling-Chardonnay  94.000000   40.0\n",
       "Blauburgunder        93.000000   19.0\n",
       "Garnacha-Cariñena    93.000000   57.0\n",
       "...                        ...    ...\n",
       "Chardonelle          82.000000   30.0\n",
       "Aidani               82.000000   27.0\n",
       "Airen                81.666667    9.0\n",
       "Meoru                81.500000   13.5\n",
       "Chancellor           80.500000   16.0\n",
       "\n",
       "[735 rows x 2 columns]"
      ]
     },
     "execution_count": 21,
     "metadata": {
      "tags": []
     },
     "output_type": "execute_result"
    }
   ],
   "source": [
    "wine.groupby(['variety']).mean().sort_values(by = 'points',ascending = False)"
   ]
  },
  {
   "cell_type": "code",
   "execution_count": 22,
   "metadata": {
    "id": "5_ajKR_qMW8E"
   },
   "outputs": [],
   "source": [
    "def sentiment_label(x):\n",
    "    if x <= 83:\n",
    "        return 'negative'\n",
    "    elif x>= 90:\n",
    "        return 'positive'\n",
    "    else:\n",
    "        return 'neutral'\n",
    "\n",
    "def sentiment_score(x):\n",
    "    if x <= 83:\n",
    "        return 0\n",
    "    elif x>= 90:\n",
    "        return 1\n",
    "    else:\n",
    "        return 2"
   ]
  },
  {
   "cell_type": "code",
   "execution_count": 23,
   "metadata": {
    "id": "vsFrZs91MW8E"
   },
   "outputs": [],
   "source": [
    "wine['sentiment_score'] = wine.points.apply(lambda x: sentiment_score(x))"
   ]
  },
  {
   "cell_type": "code",
   "execution_count": 24,
   "metadata": {
    "id": "j0JCXxGrkFGy"
   },
   "outputs": [],
   "source": [
    "wine['sentiment_label'] = wine.points.apply(lambda x: sentiment_label(x))"
   ]
  },
  {
   "cell_type": "code",
   "execution_count": 25,
   "metadata": {
    "colab": {
     "base_uri": "https://localhost:8080/",
     "height": 391
    },
    "id": "spTs1G0mkDQu",
    "outputId": "16c01c2b-01ca-4cf5-b2a4-98dd74625298"
   },
   "outputs": [
    {
     "data": {
      "text/plain": [
       "<seaborn.axisgrid.PairGrid at 0x7f0f7f3ea950>"
      ]
     },
     "execution_count": 25,
     "metadata": {
      "tags": []
     },
     "output_type": "execute_result"
    },
    {
     "data": {
      "image/png": "[encoded data removed]",
      "text/plain": [
       "<Figure size 360x360 with 1 Axes>"
      ]
     },
     "metadata": {
      "needs_background": "light",
      "tags": []
     },
     "output_type": "display_data"
    }
   ],
   "source": [
    "h = sns.PairGrid(data=wine, x_vars=['sentiment_label'], y_vars='price', size=5)\n",
    "h.map(sns.pointplot, color=\"Blue\")"
   ]
  },
  {
   "cell_type": "code",
   "execution_count": 26,
   "metadata": {
    "colab": {
     "base_uri": "https://localhost:8080/",
     "height": 173
    },
    "id": "QeYmvir-kkcM",
    "outputId": "553e6070-f866-4197-872a-c234c6111be1"
   },
   "outputs": [
    {
     "data": {
      "text/html": [
       "<div>\n",
       "<style scoped>\n",
       "    .dataframe tbody tr th:only-of-type {\n",
       "        vertical-align: middle;\n",
       "    }\n",
       "\n",
       "    .dataframe tbody tr th {\n",
       "        vertical-align: top;\n",
       "    }\n",
       "\n",
       "    .dataframe thead th {\n",
       "        text-align: right;\n",
       "    }\n",
       "</style>\n",
       "<table border=\"1\" class=\"dataframe\">\n",
       "  <thead>\n",
       "    <tr style=\"text-align: right;\">\n",
       "      <th></th>\n",
       "      <th>points</th>\n",
       "      <th>price</th>\n",
       "      <th>sentiment_score</th>\n",
       "    </tr>\n",
       "    <tr>\n",
       "      <th>sentiment_label</th>\n",
       "      <th></th>\n",
       "      <th></th>\n",
       "      <th></th>\n",
       "    </tr>\n",
       "  </thead>\n",
       "  <tbody>\n",
       "    <tr>\n",
       "      <th>negative</th>\n",
       "      <td>82.218302</td>\n",
       "      <td>18.028066</td>\n",
       "      <td>0.0</td>\n",
       "    </tr>\n",
       "    <tr>\n",
       "      <th>neutral</th>\n",
       "      <td>86.780279</td>\n",
       "      <td>24.432057</td>\n",
       "      <td>2.0</td>\n",
       "    </tr>\n",
       "    <tr>\n",
       "      <th>positive</th>\n",
       "      <td>91.461774</td>\n",
       "      <td>43.542980</td>\n",
       "      <td>1.0</td>\n",
       "    </tr>\n",
       "  </tbody>\n",
       "</table>\n",
       "</div>"
      ],
      "text/plain": [
       "                    points      price  sentiment_score\n",
       "sentiment_label                                       \n",
       "negative         82.218302  18.028066              0.0\n",
       "neutral          86.780279  24.432057              2.0\n",
       "positive         91.461774  43.542980              1.0"
      ]
     },
     "execution_count": 26,
     "metadata": {
      "tags": []
     },
     "output_type": "execute_result"
    }
   ],
   "source": [
    "wine.groupby(['sentiment_label']).mean()"
   ]
  },
  {
   "cell_type": "code",
   "execution_count": 28,
   "metadata": {
    "id": "1FNJJcAxMW8F"
   },
   "outputs": [],
   "source": [
    "todummies = ['province','variety']\n",
    "dummies = pd.get_dummies(wine[todummies])\n",
    "winetrain = pd.concat([dummies,wine],axis=1)"
   ]
  },
  {
   "cell_type": "code",
   "execution_count": 29,
   "metadata": {
    "id": "llAYM3JdMW8F"
   },
   "outputs": [],
   "source": [
    "winetrain = winetrain.drop(['designation'], axis=1)\n",
    "winetrain = winetrain.drop(['province'], axis=1)\n",
    "winetrain = winetrain.drop(['variety'], axis=1)\n",
    "winetrain = winetrain.drop(['winery'], axis=1)\n",
    "winetrain = winetrain.drop(['sentiment_label'], axis=1)"
   ]
  },
  {
   "cell_type": "code",
   "execution_count": 22,
   "metadata": {
    "colab": {
     "base_uri": "https://localhost:8080/"
    },
    "id": "ZGlFTUNVMW8G",
    "outputId": "b4f6c150-b59d-4fd6-b6b7-2b26d4bae6b1"
   },
   "outputs": [
    {
     "name": "stdout",
     "output_type": "stream",
     "text": [
      "<class 'pandas.core.frame.DataFrame'>\n",
      "RangeIndex: 152261 entries, 0 to 152260\n",
      "Columns: 1221 entries, province_Achaia to sentiment_score\n",
      "dtypes: float64(1), int64(2), object(1), uint8(1217)\n",
      "memory usage: 181.4+ MB\n"
     ]
    }
   ],
   "source": [
    "winetrain.info()"
   ]
  },
  {
   "cell_type": "code",
   "execution_count": 23,
   "metadata": {
    "id": "zUOmE9zGMW8G"
   },
   "outputs": [],
   "source": [
    "winetrain = winetrain.drop(['description'], axis=1)"
   ]
  },
  {
   "cell_type": "code",
   "execution_count": 24,
   "metadata": {
    "colab": {
     "base_uri": "https://localhost:8080/"
    },
    "id": "YmVkQKGPMW8G",
    "outputId": "89749957-3ac3-4364-9f23-327ee756ce8e"
   },
   "outputs": [
    {
     "data": {
      "text/plain": [
       "count    152261.000000\n",
       "mean         30.474961\n",
       "std          19.145138\n",
       "min           4.000000\n",
       "25%          16.000000\n",
       "50%          25.000000\n",
       "75%          40.000000\n",
       "max         100.000000\n",
       "Name: price, dtype: float64"
      ]
     },
     "execution_count": 24,
     "metadata": {
      "tags": []
     },
     "output_type": "execute_result"
    }
   ],
   "source": [
    "winetrain[\"price\"].describe()"
   ]
  },
  {
   "cell_type": "code",
   "execution_count": 25,
   "metadata": {
    "id": "cx-rAdSGMW8H"
   },
   "outputs": [],
   "source": [
    "def Price_Range(x):\n",
    "    if x <= 16:\n",
    "        return 'Cheap'\n",
    "    elif x>= 40:\n",
    "        return 'Expensive'\n",
    "    else:\n",
    "        return 'Midrange'\n",
    "\n",
    "def Price_Range_Score(x):\n",
    "    if x <= 16:\n",
    "        return 0\n",
    "    elif x>= 40:\n",
    "        return 1\n",
    "    else:\n",
    "        return 2"
   ]
  },
  {
   "cell_type": "code",
   "execution_count": 26,
   "metadata": {
    "id": "_G_AFNVXMW8H"
   },
   "outputs": [],
   "source": [
    "winetrain['Price_Range'] = winetrain.price.apply(lambda x: Price_Range_Score(x))"
   ]
  },
  {
   "cell_type": "markdown",
   "metadata": {
    "id": "POSgiEP8MW8I"
   },
   "source": [
    "### Fitting Preliminary Models: "
   ]
  },
  {
   "cell_type": "code",
   "execution_count": null,
   "metadata": {
    "id": "G3elDcKgMW8I"
   },
   "outputs": [],
   "source": [
    "WineTrain = winetrain.copy()\n",
    "WineTrain = WineTrain.drop(['price'],axis=1)"
   ]
  },
  {
   "cell_type": "code",
   "execution_count": null,
   "metadata": {
    "id": "Na9W7882MW8J"
   },
   "outputs": [],
   "source": [
    "X,y=WineTrain.drop(['Price_Range'],axis=1),WineTrain['Price_Range']"
   ]
  },
  {
   "cell_type": "code",
   "execution_count": null,
   "metadata": {
    "id": "GdfAW6yXMW8J"
   },
   "outputs": [],
   "source": [
    "train_X, val_X, train_y, val_y=train_test_split(X,y, train_size=(.8))"
   ]
  },
  {
   "cell_type": "code",
   "execution_count": 44,
   "metadata": {
    "id": "bPmZ-TGnMW8K"
   },
   "outputs": [],
   "source": [
    "def pfa_first_classifier(model):\n",
    "    classifier = model()\n",
    "    classifier.fit(train_X, train_y)\n",
    "    print(classifier.score(val_X, val_y))\n",
    "    return classifier"
   ]
  },
  {
   "cell_type": "markdown",
   "metadata": {
    "id": "qGelkDusMW8K"
   },
   "source": [
    "#### Logistic Regression: "
   ]
  },
  {
   "cell_type": "code",
   "execution_count": null,
   "metadata": {
    "id": "cuu6fNW4MW8K",
    "outputId": "2daf3eba-cbb9-4036-fc21-666c733f24ae"
   },
   "outputs": [
    {
     "name": "stdout",
     "output_type": "stream",
     "text": [
      "0.5821429744195974\n",
      "58.21 percent\n"
     ]
    }
   ],
   "source": [
    "logisticregression = pfa_first_classifier(LogisticRegression)\n",
    "\n",
    "acc_log_reg = round( logisticregression.score(val_X, val_y) * 100, 2)\n",
    "print (str(acc_log_reg) + ' percent')"
   ]
  },
  {
   "cell_type": "markdown",
   "metadata": {
    "id": "42QUA-fqMW8L"
   },
   "source": [
    "#### Decision Tree:"
   ]
  },
  {
   "cell_type": "code",
   "execution_count": null,
   "metadata": {
    "id": "UFfmZEpJMW8L",
    "outputId": "408e1c1b-2eac-499b-acfc-2d618432c84d"
   },
   "outputs": [
    {
     "name": "stdout",
     "output_type": "stream",
     "text": [
      "0.6580304075132171\n",
      "65.8  percent\n"
     ]
    }
   ],
   "source": [
    "decisiontree = pfa_first_classifier(DecisionTreeClassifier)\n",
    "\n",
    "acc_decision_tree = round(decisiontree.score(val_X, val_y) * 100, 2)\n",
    "print(round(acc_decision_tree,2,), ' percent')"
   ]
  },
  {
   "cell_type": "markdown",
   "metadata": {
    "id": "BF7m8gYQMW8M"
   },
   "source": [
    "#### Random Forest:"
   ]
  },
  {
   "cell_type": "code",
   "execution_count": 45,
   "metadata": {
    "colab": {
     "base_uri": "https://localhost:8080/"
    },
    "id": "oVCBTamoMW8M",
    "outputId": "5c93492e-f10a-4b02-8f81-92a1a7099d60"
   },
   "outputs": [
    {
     "name": "stdout",
     "output_type": "stream",
     "text": [
      "0.6671263914885233\n",
      "66.71  percent\n"
     ]
    }
   ],
   "source": [
    "forest = pfa_first_classifier(RandomForestClassifier)\n",
    "\n",
    "acc_random_forest = round(forest.score(val_X, val_y) * 100, 2)\n",
    "print(round(acc_random_forest,2,), ' percent')"
   ]
  },
  {
   "cell_type": "markdown",
   "metadata": {
    "id": "o5pBIxG9MW8N"
   },
   "source": [
    "#### KNeighbors Classifier:"
   ]
  },
  {
   "cell_type": "code",
   "execution_count": null,
   "metadata": {
    "id": "iIOlgALyMW8N",
    "outputId": "7c40bed0-ddf9-4d66-807f-a4a150d83919"
   },
   "outputs": [
    {
     "name": "stdout",
     "output_type": "stream",
     "text": [
      "0.6257511575214265\n",
      "62.58  percent\n"
     ]
    }
   ],
   "source": [
    "KNN = pfa_first_classifier(KNeighborsClassifier)\n",
    "\n",
    "acc_KNN = round(KNN.score(val_X, val_y) * 100, 2)\n",
    "print(round(acc_KNN,2,), ' percent')"
   ]
  },
  {
   "cell_type": "markdown",
   "metadata": {
    "id": "lo0Q8xhzMW8N"
   },
   "source": [
    "#### Linear SVC: "
   ]
  },
  {
   "cell_type": "code",
   "execution_count": null,
   "metadata": {
    "id": "5KWGTY7EMW8O",
    "outputId": "04b459f7-b508-41c3-d195-e88939f0a4b1"
   },
   "outputs": [
    {
     "name": "stdout",
     "output_type": "stream",
     "text": [
      "0.42760975930121825\n",
      "42.76 percent\n"
     ]
    }
   ],
   "source": [
    "SVC = pfa_first_classifier(LinearSVC)\n",
    "acc_linear_svc = round( SVC.score(val_X, val_y) * 100, 2)\n",
    "print (str(acc_linear_svc) + ' percent')"
   ]
  },
  {
   "cell_type": "markdown",
   "metadata": {
    "id": "daIeYaLiMW8O"
   },
   "source": [
    "#### Naive Bayes Via GaussianNB: "
   ]
  },
  {
   "cell_type": "code",
   "execution_count": null,
   "metadata": {
    "id": "NyOl6fqmMW8O",
    "outputId": "db71baca-8d73-4fd8-da79-0d7afe8190cd"
   },
   "outputs": [
    {
     "name": "stdout",
     "output_type": "stream",
     "text": [
      "0.3322496962532427\n",
      "33.22  percent\n"
     ]
    }
   ],
   "source": [
    "gnb = pfa_first_classifier(GaussianNB)\n",
    "\n",
    "acc_gnb = round(gnb.score(val_X, val_y) * 100, 2)\n",
    "print(round(acc_gnb,2,), ' percent')"
   ]
  },
  {
   "cell_type": "markdown",
   "metadata": {
    "id": "jRYJTMRzMW8P"
   },
   "source": [
    "#### Perceptron:"
   ]
  },
  {
   "cell_type": "code",
   "execution_count": null,
   "metadata": {
    "id": "qYgUd2TyMW8P",
    "outputId": "e517024d-4be7-4662-febf-3c9fe38405ad"
   },
   "outputs": [
    {
     "name": "stdout",
     "output_type": "stream",
     "text": [
      "0.5944241946606246\n",
      "59.44  percent\n"
     ]
    }
   ],
   "source": [
    "perceptronmodel = pfa_first_classifier(Perceptron)\n",
    "\n",
    "acc_perceptron = round(perceptronmodel.score(val_X, val_y) * 100, 2)\n",
    "print(round(acc_perceptron,2,), ' percent')"
   ]
  },
  {
   "cell_type": "markdown",
   "metadata": {
    "id": "1VNMWzE4MW8Q"
   },
   "source": [
    "#### SGD Classifier:"
   ]
  },
  {
   "cell_type": "code",
   "execution_count": null,
   "metadata": {
    "id": "DsoLpjkUMW8S",
    "outputId": "65d0e625-181d-479f-d2af-a62a9d71cc2b"
   },
   "outputs": [
    {
     "name": "stdout",
     "output_type": "stream",
     "text": [
      "0.5181427117196992\n",
      "51.81  percent\n"
     ]
    }
   ],
   "source": [
    "sgdmodel = pfa_first_classifier(SGDClassifier)\n",
    "\n",
    "acc_sgd = round(sgdmodel.score(val_X, val_y) * 100, 2)\n",
    "print(round(acc_sgd,2,), ' percent')"
   ]
  },
  {
   "cell_type": "code",
   "execution_count": null,
   "metadata": {
    "id": "JdmhiWcAMW8S",
    "outputId": "006259ed-a34d-47bb-a169-fb1cd93865ce"
   },
   "outputs": [
    {
     "name": "stdout",
     "output_type": "stream",
     "text": [
      "Test set RMSE of the forest model is: 0.92\n"
     ]
    }
   ],
   "source": [
    "y_pred = forest.predict(val_X)\n",
    "\n",
    "mse_forest = MSE(val_y, y_pred)\n",
    "\n",
    "rmse_forest = mse_forest**(1/2)\n",
    "\n",
    "print(\"Test set RMSE of the forest model is: {:.2f}\".format(rmse_forest))"
   ]
  },
  {
   "cell_type": "code",
   "execution_count": null,
   "metadata": {
    "id": "SZAYAOJ3MW8T",
    "outputId": "b14536a7-957c-428d-a7fd-79fa6e29f97a"
   },
   "outputs": [
    {
     "name": "stdout",
     "output_type": "stream",
     "text": [
      "CV RMSE: 0.92\n"
     ]
    }
   ],
   "source": [
    "MSE_CV_scores = - cross_val_score(forest, train_X, train_y, cv=10, \n",
    "                                  scoring='neg_mean_squared_error', \n",
    "                                  n_jobs=-1) \n",
    "\n",
    "RMSE_CV = (MSE_CV_scores.mean())**(1/2)\n",
    "\n",
    "print('CV RMSE: {:.2f}'.format(RMSE_CV))"
   ]
  },
  {
   "cell_type": "markdown",
   "metadata": {
    "id": "mHLCQ3RvMW8U"
   },
   "source": [
    "#### Selecting Hyperparameters Via Randomized Search CV: "
   ]
  },
  {
   "cell_type": "code",
   "execution_count": null,
   "metadata": {
    "id": "yn-PHADwMW8U",
    "outputId": "c3752c8b-9167-4f9a-ac87-5da088e9ec79"
   },
   "outputs": [
    {
     "name": "stdout",
     "output_type": "stream",
     "text": [
      "Fitting 3 folds for each of 100 candidates, totalling 300 fits\n"
     ]
    },
    {
     "data": {
      "text/plain": [
       "{'n_estimators': 600,\n",
       " 'min_samples_split': 23,\n",
       " 'min_samples_leaf': 2,\n",
       " 'max_features': 'sqrt',\n",
       " 'max_depth': 15,\n",
       " 'bootstrap': False}"
      ]
     },
     "execution_count": 43,
     "metadata": {
      "tags": []
     },
     "output_type": "execute_result"
    }
   ],
   "source": [
    "forest_2 = RandomForestClassifier()\n",
    "\n",
    "n_estimators = [int(x) for x in np.linspace(start = 100, stop = 1000, num = 10)]\n",
    "max_features = ['log2', 'sqrt']\n",
    "max_depth = [int(x) for x in np.linspace(start = 1, stop = 15, num = 15)]\n",
    "min_samples_split = [int(x) for x in np.linspace(start = 2, stop = 50, num = 10)]\n",
    "min_samples_leaf = [int(x) for x in np.linspace(start = 2, stop = 50, num = 10)]\n",
    "bootstrap = [True, False]\n",
    "param_dist = {'n_estimators': n_estimators,\n",
    "               'max_features': max_features,\n",
    "               'max_depth': max_depth,\n",
    "               'min_samples_split': min_samples_split,\n",
    "               'min_samples_leaf': min_samples_leaf,\n",
    "               'bootstrap': bootstrap}\n",
    "\n",
    "RandomForestCV = RandomizedSearchCV(forest_2, \n",
    "                        param_dist, \n",
    "                        n_iter = 100, \n",
    "                        cv = 3, \n",
    "                        verbose = 1, \n",
    "                        n_jobs=-1, \n",
    "                        random_state=0)\n",
    "\n",
    "RandomForestCV.fit(train_X, train_y)\n",
    "RandomForestCV.best_params_\n",
    "\n"
   ]
  },
  {
   "cell_type": "code",
   "execution_count": null,
   "metadata": {
    "id": "AIYxOi-SMW8U",
    "outputId": "3ccaf6e5-5911-4977-d8cc-f5eccaeafe20"
   },
   "outputs": [
    {
     "data": {
      "text/html": [
       "<div>\n",
       "<style scoped>\n",
       "    .dataframe tbody tr th:only-of-type {\n",
       "        vertical-align: middle;\n",
       "    }\n",
       "\n",
       "    .dataframe tbody tr th {\n",
       "        vertical-align: top;\n",
       "    }\n",
       "\n",
       "    .dataframe thead th {\n",
       "        text-align: right;\n",
       "    }\n",
       "</style>\n",
       "<table border=\"1\" class=\"dataframe\">\n",
       "  <thead>\n",
       "    <tr style=\"text-align: right;\">\n",
       "      <th></th>\n",
       "      <th>param_n_estimators</th>\n",
       "      <th>param_min_samples_split</th>\n",
       "      <th>param_min_samples_leaf</th>\n",
       "      <th>param_max_features</th>\n",
       "      <th>param_max_depth</th>\n",
       "      <th>param_bootstrap</th>\n",
       "      <th>mean_test_score</th>\n",
       "      <th>rank_test_score</th>\n",
       "    </tr>\n",
       "  </thead>\n",
       "  <tbody>\n",
       "    <tr>\n",
       "      <th>0</th>\n",
       "      <td>600</td>\n",
       "      <td>23</td>\n",
       "      <td>2</td>\n",
       "      <td>sqrt</td>\n",
       "      <td>15</td>\n",
       "      <td>False</td>\n",
       "      <td>0.577860</td>\n",
       "      <td>1</td>\n",
       "    </tr>\n",
       "    <tr>\n",
       "      <th>1</th>\n",
       "      <td>100</td>\n",
       "      <td>2</td>\n",
       "      <td>18</td>\n",
       "      <td>sqrt</td>\n",
       "      <td>15</td>\n",
       "      <td>False</td>\n",
       "      <td>0.573173</td>\n",
       "      <td>2</td>\n",
       "    </tr>\n",
       "    <tr>\n",
       "      <th>2</th>\n",
       "      <td>400</td>\n",
       "      <td>23</td>\n",
       "      <td>2</td>\n",
       "      <td>sqrt</td>\n",
       "      <td>14</td>\n",
       "      <td>False</td>\n",
       "      <td>0.571071</td>\n",
       "      <td>3</td>\n",
       "    </tr>\n",
       "    <tr>\n",
       "      <th>3</th>\n",
       "      <td>700</td>\n",
       "      <td>12</td>\n",
       "      <td>2</td>\n",
       "      <td>sqrt</td>\n",
       "      <td>13</td>\n",
       "      <td>False</td>\n",
       "      <td>0.559306</td>\n",
       "      <td>4</td>\n",
       "    </tr>\n",
       "    <tr>\n",
       "      <th>4</th>\n",
       "      <td>100</td>\n",
       "      <td>50</td>\n",
       "      <td>39</td>\n",
       "      <td>sqrt</td>\n",
       "      <td>15</td>\n",
       "      <td>False</td>\n",
       "      <td>0.557139</td>\n",
       "      <td>5</td>\n",
       "    </tr>\n",
       "    <tr>\n",
       "      <th>5</th>\n",
       "      <td>800</td>\n",
       "      <td>28</td>\n",
       "      <td>12</td>\n",
       "      <td>sqrt</td>\n",
       "      <td>14</td>\n",
       "      <td>True</td>\n",
       "      <td>0.555899</td>\n",
       "      <td>6</td>\n",
       "    </tr>\n",
       "    <tr>\n",
       "      <th>6</th>\n",
       "      <td>600</td>\n",
       "      <td>50</td>\n",
       "      <td>23</td>\n",
       "      <td>sqrt</td>\n",
       "      <td>14</td>\n",
       "      <td>False</td>\n",
       "      <td>0.555259</td>\n",
       "      <td>7</td>\n",
       "    </tr>\n",
       "    <tr>\n",
       "      <th>7</th>\n",
       "      <td>1000</td>\n",
       "      <td>34</td>\n",
       "      <td>23</td>\n",
       "      <td>sqrt</td>\n",
       "      <td>14</td>\n",
       "      <td>True</td>\n",
       "      <td>0.554939</td>\n",
       "      <td>8</td>\n",
       "    </tr>\n",
       "    <tr>\n",
       "      <th>8</th>\n",
       "      <td>300</td>\n",
       "      <td>18</td>\n",
       "      <td>18</td>\n",
       "      <td>sqrt</td>\n",
       "      <td>13</td>\n",
       "      <td>True</td>\n",
       "      <td>0.548347</td>\n",
       "      <td>9</td>\n",
       "    </tr>\n",
       "    <tr>\n",
       "      <th>9</th>\n",
       "      <td>500</td>\n",
       "      <td>12</td>\n",
       "      <td>18</td>\n",
       "      <td>sqrt</td>\n",
       "      <td>13</td>\n",
       "      <td>False</td>\n",
       "      <td>0.547156</td>\n",
       "      <td>10</td>\n",
       "    </tr>\n",
       "  </tbody>\n",
       "</table>\n",
       "</div>"
      ],
      "text/plain": [
       "  param_n_estimators param_min_samples_split param_min_samples_leaf  \\\n",
       "0                600                      23                      2   \n",
       "1                100                       2                     18   \n",
       "2                400                      23                      2   \n",
       "3                700                      12                      2   \n",
       "4                100                      50                     39   \n",
       "5                800                      28                     12   \n",
       "6                600                      50                     23   \n",
       "7               1000                      34                     23   \n",
       "8                300                      18                     18   \n",
       "9                500                      12                     18   \n",
       "\n",
       "  param_max_features param_max_depth param_bootstrap  mean_test_score  \\\n",
       "0               sqrt              15           False         0.577860   \n",
       "1               sqrt              15           False         0.573173   \n",
       "2               sqrt              14           False         0.571071   \n",
       "3               sqrt              13           False         0.559306   \n",
       "4               sqrt              15           False         0.557139   \n",
       "5               sqrt              14            True         0.555899   \n",
       "6               sqrt              14           False         0.555259   \n",
       "7               sqrt              14            True         0.554939   \n",
       "8               sqrt              13            True         0.548347   \n",
       "9               sqrt              13           False         0.547156   \n",
       "\n",
       "   rank_test_score  \n",
       "0                1  \n",
       "1                2  \n",
       "2                3  \n",
       "3                4  \n",
       "4                5  \n",
       "5                6  \n",
       "6                7  \n",
       "7                8  \n",
       "8                9  \n",
       "9               10  "
      ]
     },
     "execution_count": 44,
     "metadata": {
      "tags": []
     },
     "output_type": "execute_result"
    }
   ],
   "source": [
    "rs_df = pd.DataFrame(RandomForestCV.cv_results_).sort_values('rank_test_score').reset_index(drop=True)\n",
    "rs_df = rs_df.drop([\n",
    "            'mean_fit_time', \n",
    "            'std_fit_time', \n",
    "            'mean_score_time',\n",
    "            'std_score_time', \n",
    "            'params', \n",
    "            'split0_test_score', \n",
    "            'split1_test_score', \n",
    "            'split2_test_score', \n",
    "            'std_test_score'],\n",
    "            axis=1)\n",
    "rs_df.head(10)"
   ]
  },
  {
   "cell_type": "code",
   "execution_count": null,
   "metadata": {
    "id": "8b23J9C8MW8U",
    "outputId": "92e8e9e8-3f6d-4568-8ffa-db973124462e"
   },
   "outputs": [
    {
     "data": {
      "image/png": "[encoded data removed]",
      "text/plain": [
       "<Figure size 2160x1800 with 6 Axes>"
      ]
     },
     "metadata": {
      "tags": []
     },
     "output_type": "display_data"
    }
   ],
   "source": [
    "fig, axs = plt.subplots(ncols=3, nrows=2)\n",
    "\n",
    "sns.set(style=\"whitegrid\", color_codes=True, font_scale = 2)\n",
    "fig.set_size_inches(30,25)\n",
    "\n",
    "sns.barplot(x='param_n_estimators', y='mean_test_score', data=rs_df, ax=axs[0,0], color='lightgrey')\n",
    "axs[0,0].set_ylim([0,.75])\n",
    "axs[0,0].set_title(label = 'n_estimators', size=30, weight='bold')\n",
    "\n",
    "sns.barplot(x='param_min_samples_split', y='mean_test_score', data=rs_df, ax=axs[0,1], color='coral')\n",
    "axs[0,1].set_ylim([0,.75])\n",
    "axs[0,1].set_title(label = 'min_samples_split', size=30, weight='bold')\n",
    "\n",
    "sns.barplot(x='param_min_samples_leaf', y='mean_test_score', data=rs_df, ax=axs[0,2], color='lightgreen')\n",
    "axs[0,2].set_ylim([0,.75])\n",
    "axs[0,2].set_title(label = 'min_samples_leaf', size=30, weight='bold')\n",
    "\n",
    "sns.barplot(x='param_max_features', y='mean_test_score', data=rs_df, ax=axs[1,0], color='wheat')\n",
    "axs[1,0].set_ylim([0,.75])\n",
    "axs[1,0].set_title(label = 'max_features', size=30, weight='bold')\n",
    "\n",
    "sns.barplot(x='param_max_depth', y='mean_test_score', data=rs_df, ax=axs[1,1], color='lightpink')\n",
    "axs[1,1].set_ylim([0,.75])\n",
    "axs[1,1].set_title(label = 'max_depth', size=30, weight='bold')\n",
    "\n",
    "sns.barplot(x='param_bootstrap',y='mean_test_score', data=rs_df, ax=axs[1,2], color='skyblue')\n",
    "axs[1,2].set_ylim([0,.75])\n",
    "\n",
    "axs[1,2].set_title(label = 'bootstrap', size=30, weight='bold')\n",
    "\n",
    "plt.show()"
   ]
  },
  {
   "cell_type": "markdown",
   "metadata": {
    "id": "yjFinqnnMW8V"
   },
   "source": [
    "#### Selecting Hyperparameters Via Grid Search CV:"
   ]
  },
  {
   "cell_type": "code",
   "execution_count": null,
   "metadata": {
    "id": "94QvR515MW8V",
    "outputId": "9a02d893-7633-44d9-accd-e2244451b636"
   },
   "outputs": [
    {
     "name": "stdout",
     "output_type": "stream",
     "text": [
      "Fitting 3 folds for each of 540 candidates, totalling 1620 fits\n"
     ]
    },
    {
     "data": {
      "text/plain": [
       "{'bootstrap': False,\n",
       " 'max_depth': 15,\n",
       " 'max_features': 'sqrt',\n",
       " 'min_samples_leaf': 2,\n",
       " 'min_samples_split': 3,\n",
       " 'n_estimators': 700}"
      ]
     },
     "execution_count": 46,
     "metadata": {
      "tags": []
     },
     "output_type": "execute_result"
    }
   ],
   "source": [
    "n_estimators = [300,500,700]\n",
    "max_features = ['sqrt']\n",
    "max_depth = [2,3,7,11,15]\n",
    "min_samples_split = [2,3,4,22,23,24]\n",
    "min_samples_leaf = [2,3,4,5,6,7]\n",
    "bootstrap = [False]\n",
    "param_grid = {'n_estimators': n_estimators,\n",
    "               'max_features': max_features,\n",
    "               'max_depth': max_depth,\n",
    "               'min_samples_split': min_samples_split,\n",
    "               'min_samples_leaf': min_samples_leaf,\n",
    "               'bootstrap': bootstrap}\n",
    "gs = GridSearchCV(forest_2, param_grid, cv = 3, verbose = 1, n_jobs=-1)\n",
    "gs.fit(train_X, train_y)\n",
    "rfc_3 = gs.best_estimator_\n",
    "gs.best_params_"
   ]
  },
  {
   "cell_type": "code",
   "execution_count": null,
   "metadata": {
    "id": "fmum2l8QMW8W",
    "outputId": "71f69fd0-a2ce-4e45-8c52-ab855455a757"
   },
   "outputs": [
    {
     "name": "stdout",
     "output_type": "stream",
     "text": [
      "Test set RMSE: 1.04\n",
      "Train set RMSE: 1.04\n",
      "CV RMSE is: 1.05\n",
      "58.03  percent\n"
     ]
    }
   ],
   "source": [
    "rf3 = gs.best_estimator_.fit(train_X, train_y)\n",
    "\n",
    "\n",
    "y_pred = gs.best_estimator_.predict(val_X)\n",
    "y_pred_train=gs.best_estimator_.predict(train_X)\n",
    "\n",
    "rmse_test = MSE(val_y, y_pred)**(1/2)\n",
    "rmse_train = MSE(train_y, y_pred_train)**(1/2)\n",
    "\n",
    "print('Test set RMSE: {:.2f}'.format(rmse_test))\n",
    "print('Train set RMSE: {:.2f}'.format(rmse_train))\n",
    "\n",
    "MSE_CV_scores = - cross_val_score(rf3, train_X, train_y, cv=3, \n",
    "                                  scoring='neg_mean_squared_error', \n",
    "                                  n_jobs=-1) \n",
    "\n",
    "RMSE_CV = (MSE_CV_scores.mean())**(1/2)\n",
    "\n",
    "print('CV RMSE is: {:.2f}'.format(RMSE_CV))\n",
    "acc_random_forest_gs = round(rf3.score(val_X, val_y) * 100, 2)\n",
    "print(round(acc_random_forest_gs,2,), ' percent')"
   ]
  },
  {
   "cell_type": "markdown",
   "metadata": {
    "id": "Lmooc3R2MW8X"
   },
   "source": [
    "#### Ensemble: "
   ]
  },
  {
   "cell_type": "code",
   "execution_count": null,
   "metadata": {
    "id": "gUMOR_UgMW8X",
    "outputId": "12d24005-1f88-4f38-a2fa-86af75b02a2f"
   },
   "outputs": [
    {
     "name": "stdout",
     "output_type": "stream",
     "text": [
      "Test set RMSE of gb: 0.95\n",
      "Train set RMSE of gb: 0.95\n",
      "64.29  percent\n"
     ]
    }
   ],
   "source": [
    "gb = GradientBoostingClassifier()\n",
    "\n",
    "gb.fit(train_X, train_y)\n",
    "\n",
    "y_pred_Gboost = gb.predict(val_X)\n",
    "\n",
    "y_pred_train=gb.predict(train_X)\n",
    "\n",
    "rmse_test = MSE(val_y, y_pred_Gboost)**(1/2)\n",
    "rmse_train = MSE(train_y, y_pred_train)**(1/2)\n",
    "\n",
    "\n",
    "print('Test set RMSE of gb: {:.2f}'.format(rmse_test))\n",
    "print('Train set RMSE of gb: {:.2f}'.format(rmse_train))\n",
    "\n",
    "acc_GradientBoostingClassifier = round(gb.score(val_X, val_y) * 100, 2)\n",
    "print(round(acc_GradientBoostingClassifier,2,), ' percent')"
   ]
  },
  {
   "cell_type": "code",
   "execution_count": null,
   "metadata": {
    "id": "n2wlhFXCMW8Y"
   },
   "outputs": [],
   "source": [
    "gb = GradientBoostingClassifier(random_state=1)\n",
    "\n",
    "rf = RandomForestClassifier(random_state=1)\n",
    "\n",
    "dt = DecisionTreeClassifier(random_state=1)\n",
    "\n",
    "Classifiers = [('Gradient Boosting Classifier', gb), ('Decision Tree Classifier', dt),('Random Forest Classifier',rf)]"
   ]
  },
  {
   "cell_type": "code",
   "execution_count": null,
   "metadata": {
    "id": "eoS-AXEvMW8Z",
    "outputId": "a9a6e225-9810-477c-9e43-2e527d02ba0a"
   },
   "outputs": [
    {
     "name": "stdout",
     "output_type": "stream",
     "text": [
      "Test set RMSE of VC: 0.92\n",
      "Train set RMSE of VC: 0.84\n",
      "Voting Regressor: 66.19  percent\n"
     ]
    }
   ],
   "source": [
    "vc = VotingClassifier(estimators=Classifiers)     \n",
    "\n",
    "vc.fit(train_X, train_y)   \n",
    "\n",
    "y_pred = vc.predict(val_X)\n",
    "\n",
    "y_pred_train=vc.predict(train_X)\n",
    "\n",
    "rmse_test = MSE(val_y, y_pred)**(1/2)\n",
    "rmse_train = MSE(train_y, y_pred_train)**(1/2)\n",
    "\n",
    "\n",
    "print('Test set RMSE of VC: {:.2f}'.format(rmse_test))\n",
    "print('Train set RMSE of VC: {:.2f}'.format(rmse_train))\n",
    "\n",
    "acc_VotingClassifier = round(vc.score(val_X, val_y) * 100, 2)\n",
    "print('Voting Regressor:',round(acc_VotingClassifier,2,), ' percent')"
   ]
  },
  {
   "cell_type": "code",
   "execution_count": null,
   "metadata": {
    "id": "M7milrNFMW8Z"
   },
   "outputs": [],
   "source": [
    "KNN = KNeighborsClassifier()\n",
    "\n",
    "rf = RandomForestClassifier(random_state=1)\n",
    "\n",
    "dt = DecisionTreeClassifier(random_state=1)\n",
    "\n",
    "Classifiers = [('KNeighborsClassifier', KNN), ('Decision Tree Classifier', dt),('Random Forest Classifier',rf)]"
   ]
  },
  {
   "cell_type": "code",
   "execution_count": null,
   "metadata": {
    "id": "5kE5_3KnMW8Z",
    "outputId": "ca0ba21b-08d9-4656-a6ba-ec8c06547482"
   },
   "outputs": [
    {
     "name": "stdout",
     "output_type": "stream",
     "text": [
      "Test set RMSE of VC: 0.92\n",
      "Train set RMSE of VC: 0.84\n",
      "Voting Regressor: 66.23  percent\n"
     ]
    }
   ],
   "source": [
    "vc = VotingClassifier(estimators=Classifiers)     \n",
    "\n",
    "vc.fit(train_X, train_y)   \n",
    "\n",
    "y_pred = vc.predict(val_X)\n",
    "\n",
    "y_pred_train=vc.predict(train_X)\n",
    "\n",
    "rmse_test = MSE(val_y, y_pred)**(1/2)\n",
    "rmse_train = MSE(train_y, y_pred_train)**(1/2)\n",
    "\n",
    "\n",
    "print('Test set RMSE of VC: {:.2f}'.format(rmse_test))\n",
    "print('Train set RMSE of VC: {:.2f}'.format(rmse_train))\n",
    "\n",
    "acc_VotingClassifier2 = round(vc.score(val_X, val_y) * 100, 2)\n",
    "print('Voting Regressor:',round(acc_VotingClassifier2,2,), ' percent')"
   ]
  },
  {
   "cell_type": "code",
   "execution_count": null,
   "metadata": {
    "id": "ppwmhtZeMW8Z",
    "outputId": "77fdc06e-636f-4080-d8b8-f6435b340e1c"
   },
   "outputs": [
    {
     "name": "stdout",
     "output_type": "stream",
     "text": [
      "Test set RMSE of VC: 0.96\n",
      "Train set RMSE of VC: 0.95\n",
      "Voting Regressor: 64.09  percent\n"
     ]
    }
   ],
   "source": [
    "regr = AdaBoostClassifier(random_state=0, n_estimators=100)\n",
    "\n",
    "regr.fit(train_X, train_y)\n",
    "\n",
    "y_pred = regr.predict(val_X)\n",
    "\n",
    "y_pred_train=regr.predict(train_X)\n",
    "\n",
    "rmse_test = MSE(val_y, y_pred)**(1/2)\n",
    "rmse_train = MSE(train_y, y_pred_train)**(1/2)\n",
    "\n",
    "print('Test set RMSE of VC: {:.2f}'.format(rmse_test))\n",
    "print('Train set RMSE of VC: {:.2f}'.format(rmse_train))\n",
    "\n",
    "acc_AdaBoostClassifier = round(regr.score(val_X, val_y) * 100, 2)\n",
    "print('Voting Regressor:',round(acc_AdaBoostClassifier,2,), ' percent')"
   ]
  },
  {
   "cell_type": "markdown",
   "metadata": {
    "id": "ploRGJezMW8a"
   },
   "source": [
    "#### Model Comparison:"
   ]
  },
  {
   "cell_type": "code",
   "execution_count": null,
   "metadata": {
    "id": "r1aaHMiRMW8a",
    "outputId": "767c6884-b20f-4552-db1d-2b1cb9c21bff"
   },
   "outputs": [
    {
     "data": {
      "text/html": [
       "<div>\n",
       "<style scoped>\n",
       "    .dataframe tbody tr th:only-of-type {\n",
       "        vertical-align: middle;\n",
       "    }\n",
       "\n",
       "    .dataframe tbody tr th {\n",
       "        vertical-align: top;\n",
       "    }\n",
       "\n",
       "    .dataframe thead th {\n",
       "        text-align: right;\n",
       "    }\n",
       "</style>\n",
       "<table border=\"1\" class=\"dataframe\">\n",
       "  <thead>\n",
       "    <tr style=\"text-align: right;\">\n",
       "      <th></th>\n",
       "      <th>Model</th>\n",
       "      <th>Score</th>\n",
       "    </tr>\n",
       "  </thead>\n",
       "  <tbody>\n",
       "    <tr>\n",
       "      <th>2</th>\n",
       "      <td>Random Forest Classifier</td>\n",
       "      <td>66.27%</td>\n",
       "    </tr>\n",
       "    <tr>\n",
       "      <th>11</th>\n",
       "      <td>VotingRegressor (KNN, Decision Tree and Random...</td>\n",
       "      <td>66.23%</td>\n",
       "    </tr>\n",
       "    <tr>\n",
       "      <th>10</th>\n",
       "      <td>VotingRegressor (Logistic Regression, Decision...</td>\n",
       "      <td>66.19%</td>\n",
       "    </tr>\n",
       "    <tr>\n",
       "      <th>1</th>\n",
       "      <td>Decision Tree Classifier</td>\n",
       "      <td>65.80%</td>\n",
       "    </tr>\n",
       "    <tr>\n",
       "      <th>9</th>\n",
       "      <td>Gradient Boosting Classifier</td>\n",
       "      <td>64.29%</td>\n",
       "    </tr>\n",
       "    <tr>\n",
       "      <th>12</th>\n",
       "      <td>AdaBoost Classifier</td>\n",
       "      <td>64.09%</td>\n",
       "    </tr>\n",
       "    <tr>\n",
       "      <th>3</th>\n",
       "      <td>KNeighbors Classifier</td>\n",
       "      <td>62.58%</td>\n",
       "    </tr>\n",
       "    <tr>\n",
       "      <th>6</th>\n",
       "      <td>Perceptron</td>\n",
       "      <td>59.44%</td>\n",
       "    </tr>\n",
       "    <tr>\n",
       "      <th>0</th>\n",
       "      <td>Logistic Regression</td>\n",
       "      <td>58.21%</td>\n",
       "    </tr>\n",
       "    <tr>\n",
       "      <th>8</th>\n",
       "      <td>Random Forest GridSearchCV</td>\n",
       "      <td>58.03%</td>\n",
       "    </tr>\n",
       "    <tr>\n",
       "      <th>7</th>\n",
       "      <td>SGD</td>\n",
       "      <td>51.81%</td>\n",
       "    </tr>\n",
       "    <tr>\n",
       "      <th>4</th>\n",
       "      <td>SVC</td>\n",
       "      <td>42.76%</td>\n",
       "    </tr>\n",
       "    <tr>\n",
       "      <th>5</th>\n",
       "      <td>Naive Bayes Via GaussianNB</td>\n",
       "      <td>33.22%</td>\n",
       "    </tr>\n",
       "  </tbody>\n",
       "</table>\n",
       "</div>"
      ],
      "text/plain": [
       "                                                Model   Score\n",
       "2                            Random Forest Classifier  66.27%\n",
       "11  VotingRegressor (KNN, Decision Tree and Random...  66.23%\n",
       "10  VotingRegressor (Logistic Regression, Decision...  66.19%\n",
       "1                            Decision Tree Classifier  65.80%\n",
       "9                        Gradient Boosting Classifier  64.29%\n",
       "12                                AdaBoost Classifier  64.09%\n",
       "3                               KNeighbors Classifier  62.58%\n",
       "6                                          Perceptron  59.44%\n",
       "0                                 Logistic Regression  58.21%\n",
       "8                          Random Forest GridSearchCV  58.03%\n",
       "7                                                 SGD  51.81%\n",
       "4                                                 SVC  42.76%\n",
       "5                          Naive Bayes Via GaussianNB  33.22%"
      ]
     },
     "execution_count": 63,
     "metadata": {
      "tags": []
     },
     "output_type": "execute_result"
    }
   ],
   "source": [
    "models = pd.DataFrame({\n",
    "    'Model': ['Logistic Regression', 'Decision Tree Classifier','Random Forest Classifier','KNeighbors Classifier','SVC','Naive Bayes Via GaussianNB','Perceptron','SGD','Random Forest GridSearchCV','Gradient Boosting Classifier','VotingRegressor (Logistic Regression, Decision Tree and Random Forest)','VotingRegressor (KNN, Decision Tree and Random Forest)','AdaBoost Classifier'],\n",
    "    \n",
    "    'Score': [acc_log_reg, acc_decision_tree,acc_random_forest,acc_KNN,acc_linear_svc,acc_gnb,acc_perceptron,acc_sgd,acc_random_forest_gs,acc_GradientBoostingClassifier,acc_VotingClassifier,acc_VotingClassifier2,acc_AdaBoostClassifier]\n",
    "    })\n",
    "\n",
    "models.sort_values(by='Score', ascending=False)\n",
    "models['Score'] = pd.Series([\"{0:.2f}%\".format(val) for val in models['Score']], index = models.index)\n",
    "models.sort_values(by='Score', ascending=False)"
   ]
  },
  {
   "cell_type": "markdown",
   "metadata": {
    "id": "-wIogumcMW8a"
   },
   "source": [
    "#### Unbalanced Data! As such, we use SMOTE to properly sample from balanced classes: "
   ]
  },
  {
   "cell_type": "code",
   "execution_count": 27,
   "metadata": {
    "colab": {
     "base_uri": "https://localhost:8080/"
    },
    "id": "60ieogT-MW8a",
    "outputId": "2122aefc-024d-4972-baf5-b17a357d3952"
   },
   "outputs": [
    {
     "data": {
      "text/plain": [
       "2    0.480084\n",
       "0    0.259962\n",
       "1    0.259955\n",
       "Name: Price_Range, dtype: float64"
      ]
     },
     "execution_count": 27,
     "metadata": {
      "tags": []
     },
     "output_type": "execute_result"
    }
   ],
   "source": [
    "winetrain['Price_Range'].value_counts()/len(winetrain['Price_Range'])"
   ]
  },
  {
   "cell_type": "code",
   "execution_count": 28,
   "metadata": {
    "id": "wp3H9xYcMW8b"
   },
   "outputs": [],
   "source": [
    "WineTrain_ = winetrain.copy()\n",
    "WineTrain_ = WineTrain_.drop(['price'],axis=1)\n",
    "X,y = WineTrain_.drop(['Price_Range'],axis=1),WineTrain_['Price_Range']\n",
    "train_X, val_X, train_y, val_y=train_test_split(X,y, train_size=(.8))"
   ]
  },
  {
   "cell_type": "code",
   "execution_count": 31,
   "metadata": {
    "id": "GYSoaa8bQCtg"
   },
   "outputs": [],
   "source": [
    "method = SMOTE(kind='regular')\n",
    "\n",
    "train_X_resampled, train_y_resampled = method.fit_sample(train_X, train_y)"
   ]
  },
  {
   "cell_type": "code",
   "execution_count": 35,
   "metadata": {
    "colab": {
     "base_uri": "https://localhost:8080/"
    },
    "id": "Ea_6ICW5SDVu",
    "outputId": "3e5ccdbf-8bdc-41f9-b3e5-b5e0c14302d6"
   },
   "outputs": [
    {
     "data": {
      "text/plain": [
       "array([58486, 58486, 58486])"
      ]
     },
     "execution_count": 35,
     "metadata": {
      "tags": []
     },
     "output_type": "execute_result"
    }
   ],
   "source": [
    "np.bincount(train_y_resampled)"
   ]
  },
  {
   "cell_type": "code",
   "execution_count": 36,
   "metadata": {
    "id": "cy5MAHXQUwVj"
   },
   "outputs": [],
   "source": [
    "def resampleclassifier(model):\n",
    "    classifier = model()\n",
    "    classifier.fit(train_X_resampled, train_y_resampled)\n",
    "    print(classifier.score(val_X, val_y))\n",
    "    return classifier"
   ]
  },
  {
   "cell_type": "code",
   "execution_count": 38,
   "metadata": {
    "colab": {
     "base_uri": "https://localhost:8080/"
    },
    "id": "6PiUDLmMWKiF",
    "outputId": "df6ae194-eb3c-4e53-95c2-9d035a08adc6"
   },
   "outputs": [
    {
     "name": "stdout",
     "output_type": "stream",
     "text": [
      "0.5320986438117755\n",
      "53.21  percent\n"
     ]
    }
   ],
   "source": [
    "LogisticRegression_Resampled = resampleclassifier(LogisticRegression)\n",
    "\n",
    "acc_LogisticRegression_Resampled = round(LogisticRegression_Resampled.score(val_X, val_y) * 100, 2)\n",
    "print(round(acc_LogisticRegression_Resampled,2,), ' percent')\n"
   ]
  },
  {
   "cell_type": "code",
   "execution_count": 37,
   "metadata": {
    "colab": {
     "base_uri": "https://localhost:8080/"
    },
    "id": "0-5pMrNYUwQf",
    "outputId": "c420b0b9-7bce-43e0-97f8-ce2cdc62b115"
   },
   "outputs": [
    {
     "name": "stdout",
     "output_type": "stream",
     "text": [
      "0.6301185433290645\n",
      "63.01  percent\n"
     ]
    }
   ],
   "source": [
    "forest_Resampled = resampleclassifier(RandomForestClassifier)\n",
    "\n",
    "acc_random_forest_Resampled = round(forest_Resampled.score(val_X, val_y) * 100, 2)\n",
    "print(round(acc_random_forest_Resampled,2,), ' percent')"
   ]
  },
  {
   "cell_type": "code",
   "execution_count": 46,
   "metadata": {
    "colab": {
     "base_uri": "https://localhost:8080/"
    },
    "id": "_33U8X22YN9T",
    "outputId": "463261b0-21b0-45d0-a16e-3c0e582ccf66"
   },
   "outputs": [
    {
     "name": "stdout",
     "output_type": "stream",
     "text": [
      "Classification report:\n",
      "               precision    recall  f1-score   support\n",
      "\n",
      "           0       0.69      0.59      0.64      7927\n",
      "           1       0.71      0.61      0.66      7914\n",
      "           2       0.64      0.74      0.68     14612\n",
      "\n",
      "    accuracy                           0.67     30453\n",
      "   macro avg       0.68      0.65      0.66     30453\n",
      "weighted avg       0.67      0.67      0.67     30453\n",
      "\n",
      "Confusion matrix:\n",
      " [[ 4705    85  3137]\n",
      " [  152  4850  2912]\n",
      " [ 1996  1855 10761]]\n"
     ]
    }
   ],
   "source": [
    "#Pre-resample\n",
    "predicted = forest.predict(val_X)\n",
    "\n",
    "print('Classification report:\\n', metrics.classification_report(val_y, predicted))\n",
    "conf_mat = metrics.confusion_matrix(y_true=val_y, y_pred=predicted)\n",
    "print('Confusion matrix:\\n', conf_mat)"
   ]
  },
  {
   "cell_type": "code",
   "execution_count": 42,
   "metadata": {
    "colab": {
     "base_uri": "https://localhost:8080/"
    },
    "id": "Dj9okeyEUwLb",
    "outputId": "adf13e0b-e93d-4849-fd07-bbf9c18402d9"
   },
   "outputs": [
    {
     "name": "stdout",
     "output_type": "stream",
     "text": [
      "Classification report:\n",
      "               precision    recall  f1-score   support\n",
      "\n",
      "           0       0.59      0.74      0.66      7927\n",
      "           1       0.61      0.74      0.67      7914\n",
      "           2       0.68      0.51      0.59     14612\n",
      "\n",
      "    accuracy                           0.63     30453\n",
      "   macro avg       0.63      0.66      0.64     30453\n",
      "weighted avg       0.64      0.63      0.63     30453\n",
      "\n",
      "Confusion matrix:\n",
      " [[5856  310 1761]\n",
      " [ 366 5868 1680]\n",
      " [3694 3453 7465]]\n"
     ]
    }
   ],
   "source": [
    "#Resampled \n",
    "predicted = forest_Resampled.predict(val_X)\n",
    "\n",
    "print('Classification report:\\n', metrics.classification_report(val_y, predicted))\n",
    "conf_mat = metrics.confusion_matrix(y_true=val_y, y_pred=predicted)\n",
    "print('Confusion matrix:\\n', conf_mat)"
   ]
  },
  {
   "cell_type": "code",
   "execution_count": 52,
   "metadata": {
    "colab": {
     "base_uri": "https://localhost:8080/",
     "height": 305
    },
    "id": "oU4JFtlA1Lpf",
    "outputId": "9eae1960-e06a-49f6-f867-301e76caa737"
   },
   "outputs": [
    {
     "data": {
      "image/png": "[encoded data removed]",
      "text/plain": [
       "<Figure size 432x288 with 2 Axes>"
      ]
     },
     "metadata": {
      "needs_background": "light",
      "tags": []
     },
     "output_type": "display_data"
    }
   ],
   "source": [
    "def show_confusion_matrix(confusion_matrix):\n",
    "  hmap = sns.heatmap(confusion_matrix, annot=True, fmt=\"d\", cmap=\"Blues\")\n",
    "  hmap.yaxis.set_ticklabels(hmap.yaxis.get_ticklabels(), rotation=0, ha='right')\n",
    "  hmap.xaxis.set_ticklabels(hmap.xaxis.get_ticklabels(), rotation=30, ha='right')\n",
    "  plt.ylabel('True class')\n",
    "  plt.xlabel('Predicted class');\n",
    "\n",
    "class_names = [\"Cheap\", \"Mid-Range\",\"Expensive\"]\n",
    "cm = metrics.confusion_matrix(y_true=val_y, y_pred=predicted)\n",
    "df_cm = pd.DataFrame(cm, index=class_names, columns=class_names)\n",
    "show_confusion_matrix(df_cm)"
   ]
  },
  {
   "cell_type": "code",
   "execution_count": 48,
   "metadata": {
    "colab": {
     "base_uri": "https://localhost:8080/"
    },
    "id": "ad7-bengbeXm",
    "outputId": "e0edfb1e-bffb-44ec-dc8e-d11bc0f446a5"
   },
   "outputs": [
    {
     "name": "stdout",
     "output_type": "stream",
     "text": [
      "Classification report:\n",
      "               precision    recall  f1-score   support\n",
      "\n",
      "           0       0.58      0.75      0.65      7927\n",
      "           1       0.61      0.74      0.67      7914\n",
      "           2       0.69      0.50      0.58     14612\n",
      "\n",
      "    accuracy                           0.63     30453\n",
      "   macro avg       0.63      0.66      0.63     30453\n",
      "weighted avg       0.64      0.63      0.62     30453\n",
      "\n",
      "Confusion matrix:\n",
      " [[5906  306 1715]\n",
      " [ 408 5893 1613]\n",
      " [3798 3498 7316]]\n"
     ]
    }
   ],
   "source": [
    "KNN = KNeighborsClassifier()\n",
    "\n",
    "rf = RandomForestClassifier(random_state=1)\n",
    "\n",
    "dt = DecisionTreeClassifier(random_state=1)\n",
    "\n",
    "Classifiers = [('KNeighborsClassifier', KNN), ('Decision Tree Classifier', dt),('Random Forest Classifier',rf)]\n",
    "\n",
    "vc = VotingClassifier(estimators=Classifiers)     \n",
    "\n",
    "vc.fit(train_X_resampled, train_y_resampled)   \n",
    "\n",
    "y_pred = vc.predict(val_X)\n",
    "\n",
    "y_pred_train=vc.predict(train_X_resampled)\n",
    "\n",
    "print('Classification report:\\n', metrics.classification_report(val_y, y_pred))\n",
    "conf_mat = metrics.confusion_matrix(y_true=val_y, y_pred=y_pred)\n",
    "print('Confusion matrix:\\n', conf_mat)"
   ]
  },
  {
   "cell_type": "code",
   "execution_count": 62,
   "metadata": {
    "colab": {
     "base_uri": "https://localhost:8080/"
    },
    "id": "9uyA8bPbUwBO",
    "outputId": "fd243c9f-635e-4d51-b634-1f1b9db0ea25"
   },
   "outputs": [
    {
     "name": "stdout",
     "output_type": "stream",
     "text": [
      "Test set RMSE of gb: 1.00\n",
      "Train set RMSE of gb: 0.93\n",
      "60.87  percent\n"
     ]
    }
   ],
   "source": [
    "gb = GradientBoostingClassifier()\n",
    "\n",
    "gb.fit(train_X_resampled, train_y_resampled)\n",
    "\n",
    "y_pred_Gboost = gb.predict(val_X)\n",
    "\n",
    "y_pred_train=gb.predict(train_X_resampled)\n",
    "\n",
    "rmse_test = MSE(val_y, y_pred_Gboost)**(1/2)\n",
    "rmse_train = MSE(train_y_resampled, y_pred_train)**(1/2)\n",
    "\n",
    "\n",
    "print('Test set RMSE of gb: {:.2f}'.format(rmse_test))\n",
    "print('Train set RMSE of gb: {:.2f}'.format(rmse_train))\n",
    "\n",
    "acc_GradientBoostingClassifier = round(gb.score(val_X, val_y) * 100, 2)\n",
    "print(round(acc_GradientBoostingClassifier,2,), ' percent')"
   ]
  },
  {
   "cell_type": "code",
   "execution_count": 61,
   "metadata": {
    "colab": {
     "base_uri": "https://localhost:8080/"
    },
    "id": "mC_Q0BdRUv7i",
    "outputId": "d9f31641-9d62-405e-9efb-81b1acec0f11"
   },
   "outputs": [
    {
     "name": "stdout",
     "output_type": "stream",
     "text": [
      "Test set RMSE of VC: 1.03\n",
      "Train set RMSE of VC: 0.95\n",
      "Voting Regressor: 59.06  percent\n"
     ]
    }
   ],
   "source": [
    "regr = AdaBoostClassifier()\n",
    "\n",
    "regr.fit(train_X_resampled, train_y_resampled)\n",
    "\n",
    "y_pred = regr.predict(val_X)\n",
    "\n",
    "y_pred_train=regr.predict(train_X_resampled)\n",
    "\n",
    "rmse_test = MSE(val_y, y_pred)**(1/2)\n",
    "rmse_train = MSE(train_y_resampled, y_pred_train)**(1/2)\n",
    "\n",
    "print('Test set RMSE of VC: {:.2f}'.format(rmse_test))\n",
    "print('Train set RMSE of VC: {:.2f}'.format(rmse_train))\n",
    "\n",
    "acc_AdaBoostClassifier = round(regr.score(val_X, val_y) * 100, 2)\n",
    "print('Voting Regressor:',round(acc_AdaBoostClassifier,2,), ' percent')"
   ]
  },
  {
   "cell_type": "code",
   "execution_count": 63,
   "metadata": {
    "colab": {
     "base_uri": "https://localhost:8080/"
    },
    "id": "LxwZeL8tUv2f",
    "outputId": "137958fd-ec83-4ae7-a1f9-6a25c78cda5f"
   },
   "outputs": [
    {
     "name": "stdout",
     "output_type": "stream",
     "text": [
      "0.5916330082422093\n",
      "59.16  percent\n"
     ]
    }
   ],
   "source": [
    "KNN = resampleclassifier(KNeighborsClassifier)\n",
    "\n",
    "acc_KNN = round(KNN.score(val_X, val_y) * 100, 2)\n",
    "print(round(acc_KNN,2,), ' percent')"
   ]
  },
  {
   "cell_type": "markdown",
   "metadata": {
    "id": "tgse3G4Qixt3"
   },
   "source": [
    "Best Model: **forest_Resampled** as it has the highest accuracy based on balanced classes."
   ]
  },
  {
   "cell_type": "markdown",
   "metadata": {},
   "source": [
    "We began this analysis by first loading the required packages and the dataset, as cleaned via the EDA code provided in the attached preliminary workbook. We then explored the data to gain a better understanding of the relationships between a wine’s price and the other features in our dataset. Similar to our points prediction, we assigned sentiment scores to the wines. As shown, and consistent with preconceived expectations, the better the sentiments the more expensive the wine. We then assigned dummy variables to “province” and “variety” and dropped “designation” and “winery”. We chose these features as “province” and “variety” reflect the type of wine and location where the grapes for the wine were grown. We selected “province” and “variety” to test the notion that type of wine and location are two of the biggest features of a wine’s price.  We dropped “designation” and “winery” as “designation” was redundant with “variety” and “winery” was too specific to the point where many wineries from the training and test split only contributed one wine. As such, our model could not learn from or predict these wines. We then assigned the wines to one of three buckets: “Cheap” for wines under 16, “Mid-Range” for wines between 16 and 40, and “Expensive” for wines over 40.\n",
    "\n",
    "\n",
    "We then split the data into test and train, dropping “Price_Range” as it is our target variable. We then also drop “price” as it is the basis for our target classes and therefore strongly correlated with “Price_Range” and including it would impair the validity of our analysis. As shown, we fit LogisticRegression, DecisionTreeClassifier, RandomForestClassifier, KNeighborsClassifier, LinearSVC, Naive Bayes via GaussianNB, Perceptron, and SGDClassifier, of which RandomForestClassifier had the best fit with an accuracy, as measured by r-squared, of 66.71%. \n",
    "\n",
    "\n",
    "In an attempt to further our analysis, we fit hyperparameters via RandomSearchCV and GridSearchCV, in addition to ensemble models such as GradientBoostingClassifier, VotingClassifier (GradientBoostingClassifier, DecisionTreeClassifier, and RandomForestClassifier), VotingClassifier (KneighborsClassifier, DecisionTreeClassifier, and RandomForestClassifier) and AdaBoostClassifier. Of all of the alternative models we fit,  \n",
    "GradientBoostingClassifier performed the best with an accuracy, as measured by r-squared, of 64.29% and test and train RMSEs of 0.95. \n",
    "\n",
    "\n",
    "After further exploring our data we realized that our target classes (i.e., “Price_Range”) were unbalanced as approximately 25% were “Cheap”, 25% “Mid-Range”, and 50% “Expensive”. As we wished to approach this classification problem properly, we leveraged the synthetic minority oversampling technique (“SMOTE”) to create balanced classes. As shown, after applying SMOTE to the training set, our target classes are equal with 58,586 records each. We then refit the models on the rebalanced training set and predicted on the imbalanced test set. We did not apply SMOTE to the full dataset as we did not want to predict classes for synthetically created data. \n",
    "\n",
    "\n",
    "As shown, RandomForestClassifier, fit on the resampled training data, performed the best with an accuracy score, as measured by r-squared, of approximately 63%. As r-squared is unable to account for the biases of our predictors, we feel that although the r-squared for the balanced data is marginally lower, it is correct to have fit the model on a balanced dataset rather than an imbalanced one for a marginal increase in accuracy. As such, we leveraged this model to predict our final classes for the test set. \n"
   ]
  },
  {
   "cell_type": "code",
   "execution_count": null,
   "metadata": {},
   "outputs": [],
   "source": []
  }
 ],
 "metadata": {
  "accelerator": "GPU",
  "colab": {
   "collapsed_sections": [
    "BF7m8gYQMW8M",
    "lo0Q8xhzMW8N"
   ],
   "machine_shape": "hm",
   "name": "Price Prediction Classification Analysis .ipynb",
   "provenance": []
  },
  "kernelspec": {
   "display_name": "Python 3",
   "language": "python",
   "name": "python3"
  },
  "language_info": {
   "codemirror_mode": {
    "name": "ipython",
    "version": 3
   },
   "file_extension": ".py",
   "mimetype": "text/x-python",
   "name": "python",
   "nbconvert_exporter": "python",
   "pygments_lexer": "ipython3",
   "version": "3.8.3"
  }
 },
 "nbformat": 4,
 "nbformat_minor": 1
}
